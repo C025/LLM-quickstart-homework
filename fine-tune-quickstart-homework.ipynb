{
 "cells": [
  {
   "cell_type": "markdown",
   "id": "e0aa29f4-9e17-4c88-8b3c-afb9bcd30532",
   "metadata": {
    "tags": []
   },
   "source": [
    "# Homework: 使用完整的 YelpReviewFull 数据集训练，对比看 Acc 最高能到多少"
   ]
  },
  {
   "cell_type": "code",
   "execution_count": 1,
   "id": "999015a3-e291-4b98-b60a-438352b7ba5e",
   "metadata": {
    "jp-MarkdownHeadingCollapsed": true,
    "tags": []
   },
   "outputs": [
    {
     "data": {
      "application/vnd.jupyter.widget-view+json": {
       "model_id": "1295012a11f347a5bb8e85c47d9e93a9",
       "version_major": 2,
       "version_minor": 0
      },
      "text/plain": [
       "Downloading builder script:   0%|          | 0.00/1.80k [00:00<?, ?B/s]"
      ]
     },
     "metadata": {},
     "output_type": "display_data"
    },
    {
     "data": {
      "application/vnd.jupyter.widget-view+json": {
       "model_id": "4192707d98c1425f860601bd6efca7d5",
       "version_major": 2,
       "version_minor": 0
      },
      "text/plain": [
       "Downloading metadata:   0%|          | 0.00/979 [00:00<?, ?B/s]"
      ]
     },
     "metadata": {},
     "output_type": "display_data"
    },
    {
     "name": "stdout",
     "output_type": "stream",
     "text": [
      "Downloading and preparing dataset yelp_review_full/yelp_review_full (download: 187.06 MiB, generated: 496.94 MiB, post-processed: Unknown size, total: 684.00 MiB) to /root/.cache/huggingface/datasets/yelp_review_full/yelp_review_full/1.0.0/e8e18e19d7be9e75642fc66b198abadb116f73599ec89a69ba5dd8d1e57ba0bf...\n"
     ]
    },
    {
     "data": {
      "application/vnd.jupyter.widget-view+json": {
       "model_id": "c6660986199a421d9899d9d0d263095f",
       "version_major": 2,
       "version_minor": 0
      },
      "text/plain": [
       "Downloading data:   0%|          | 0.00/196M [00:00<?, ?B/s]"
      ]
     },
     "metadata": {},
     "output_type": "display_data"
    },
    {
     "data": {
      "application/vnd.jupyter.widget-view+json": {
       "model_id": "",
       "version_major": 2,
       "version_minor": 0
      },
      "text/plain": [
       "Generating train split:   0%|          | 0/650000 [00:00<?, ? examples/s]"
      ]
     },
     "metadata": {},
     "output_type": "display_data"
    },
    {
     "data": {
      "application/vnd.jupyter.widget-view+json": {
       "model_id": "",
       "version_major": 2,
       "version_minor": 0
      },
      "text/plain": [
       "Generating test split:   0%|          | 0/50000 [00:00<?, ? examples/s]"
      ]
     },
     "metadata": {},
     "output_type": "display_data"
    },
    {
     "name": "stdout",
     "output_type": "stream",
     "text": [
      "Dataset yelp_review_full downloaded and prepared to /root/.cache/huggingface/datasets/yelp_review_full/yelp_review_full/1.0.0/e8e18e19d7be9e75642fc66b198abadb116f73599ec89a69ba5dd8d1e57ba0bf. Subsequent calls will reuse this data.\n"
     ]
    },
    {
     "data": {
      "application/vnd.jupyter.widget-view+json": {
       "model_id": "52ac52fab2724effa0f754fb4a2e3dac",
       "version_major": 2,
       "version_minor": 0
      },
      "text/plain": [
       "  0%|          | 0/2 [00:00<?, ?it/s]"
      ]
     },
     "metadata": {},
     "output_type": "display_data"
    }
   ],
   "source": [
    "# 数据集加载和处理\n",
    "from datasets import load_dataset\n",
    "\n",
    "dataset = load_dataset(\"yelp_review_full\")\n"
   ]
  },
  {
   "cell_type": "code",
   "execution_count": 2,
   "id": "3a267965-e8c2-4da7-b8b7-7aed9090765c",
   "metadata": {},
   "outputs": [],
   "source": [
    "import random\n",
    "import pandas as pd\n",
    "import datasets\n",
    "from IPython.display import display, HTML\n",
    "\n",
    "def show_random_elements(dataset, num_examples=10):\n",
    "    assert num_examples <= len(dataset), \"Can't pick more elements than there are in the dataset.\"\n",
    "    picks = []\n",
    "    for _ in range(num_examples):\n",
    "        pick = random.randint(0, len(dataset)-1)\n",
    "        while pick in picks:\n",
    "            pick = random.randint(0, len(dataset)-1)\n",
    "        picks.append(pick)\n",
    "    \n",
    "    df = pd.DataFrame(dataset[picks])\n",
    "    for column, typ in dataset.features.items():\n",
    "        if isinstance(typ, datasets.ClassLabel):\n",
    "            df[column] = df[column].transform(lambda i: typ.names[i])\n",
    "    display(HTML(df.to_html()))\n",
    "    \n",
    "    \n"
   ]
  },
  {
   "cell_type": "code",
   "execution_count": 3,
   "id": "a61e3e25-8534-4cc1-9d71-e232d068168f",
   "metadata": {},
   "outputs": [
    {
     "data": {
      "application/vnd.jupyter.widget-view+json": {
       "model_id": "68564f92c84f463581541608e4da0a00",
       "version_major": 2,
       "version_minor": 0
      },
      "text/plain": [
       "Downloading tokenizer_config.json:   0%|          | 0.00/29.0 [00:00<?, ?B/s]"
      ]
     },
     "metadata": {},
     "output_type": "display_data"
    },
    {
     "data": {
      "application/vnd.jupyter.widget-view+json": {
       "model_id": "4ace62c8c6134991a689b7ed0474ee26",
       "version_major": 2,
       "version_minor": 0
      },
      "text/plain": [
       "Downloading config.json:   0%|          | 0.00/570 [00:00<?, ?B/s]"
      ]
     },
     "metadata": {},
     "output_type": "display_data"
    },
    {
     "data": {
      "application/vnd.jupyter.widget-view+json": {
       "model_id": "7368636f3a2f425695bef0ea93a2eebf",
       "version_major": 2,
       "version_minor": 0
      },
      "text/plain": [
       "Downloading vocab.txt:   0%|          | 0.00/208k [00:00<?, ?B/s]"
      ]
     },
     "metadata": {},
     "output_type": "display_data"
    },
    {
     "data": {
      "application/vnd.jupyter.widget-view+json": {
       "model_id": "8ef4525abddf4301b6092f33bf208f06",
       "version_major": 2,
       "version_minor": 0
      },
      "text/plain": [
       "Downloading tokenizer.json:   0%|          | 0.00/426k [00:00<?, ?B/s]"
      ]
     },
     "metadata": {},
     "output_type": "display_data"
    },
    {
     "data": {
      "application/vnd.jupyter.widget-view+json": {
       "model_id": "a8fb9c69659e4b4fa1acb21c4025edd5",
       "version_major": 2,
       "version_minor": 0
      },
      "text/plain": [
       "  0%|          | 0/650 [00:00<?, ?ba/s]"
      ]
     },
     "metadata": {},
     "output_type": "display_data"
    },
    {
     "data": {
      "application/vnd.jupyter.widget-view+json": {
       "model_id": "be8562680ff34bd8b4eb1d5ea9c5ffa6",
       "version_major": 2,
       "version_minor": 0
      },
      "text/plain": [
       "  0%|          | 0/50 [00:00<?, ?ba/s]"
      ]
     },
     "metadata": {},
     "output_type": "display_data"
    },
    {
     "data": {
      "text/html": [
       "<table border=\"1\" class=\"dataframe\">\n",
       "  <thead>\n",
       "    <tr style=\"text-align: right;\">\n",
       "      <th></th>\n",
       "      <th>label</th>\n",
       "      <th>text</th>\n",
       "      <th>input_ids</th>\n",
       "      <th>token_type_ids</th>\n",
       "      <th>attention_mask</th>\n",
       "    </tr>\n",
       "  </thead>\n",
       "  <tbody>\n",
       "    <tr>\n",
       "      <th>0</th>\n",
       "      <td>4 stars</td>\n",
       "      <td>I probably drive past Noodle Caf\\u00e9 at least three times a week. Every time, I think, \\\"I wonder if they have good noodle soup? I'd like a bowl of noodle soup.\\\" Then I keep driving, because it's usually 11 pm. \\n\\nHowever today, all of the stars aligned and I stopped in for lunch. I had the Udon Noodle Combo (Bowl of Udon soup and California Roll). The Udon was with \\\"Mixed Mountain Vegetables\\\" (which had an extremely similar flavor to chives and spinach). The food was good; not extraordinary, but good. \\n\\nI considered giving CherryBlossom Noodle Caf\\u00e9 three stars, but when it came down to it, the service was good and helpful, my order was done quickly, and the price is right. In my book, that's worth the extra star!</td>\n",
       "      <td>[101, 146, 1930, 2797, 1763, 1302, 5412, 1513, 140, 9823, 165, 190, 7629, 1162, 1580, 1120, 1655, 1210, 1551, 170, 1989, 119, 4081, 1159, 117, 146, 1341, 117, 165, 107, 146, 4608, 1191, 1152, 1138, 1363, 1185, 5412, 1513, 13128, 136, 146, 112, 173, 1176, 170, 7329, 1104, 1185, 5412, 1513, 13128, 119, 165, 107, 1599, 146, 1712, 3759, 117, 1272, 1122, 112, 188, 1932, 1429, 9852, 119, 165, 183, 165, 183, 3048, 4064, 17791, 2052, 117, 1155, 1104, 1103, 2940, 14006, 1105, 146, 2141, 1107, 1111, 5953, 119, 146, 1125, 1103, 158, 3842, 1302, 5412, 1513, 3291, 13685, 113, ...]</td>\n",
       "      <td>[0, 0, 0, 0, 0, 0, 0, 0, 0, 0, 0, 0, 0, 0, 0, 0, 0, 0, 0, 0, 0, 0, 0, 0, 0, 0, 0, 0, 0, 0, 0, 0, 0, 0, 0, 0, 0, 0, 0, 0, 0, 0, 0, 0, 0, 0, 0, 0, 0, 0, 0, 0, 0, 0, 0, 0, 0, 0, 0, 0, 0, 0, 0, 0, 0, 0, 0, 0, 0, 0, 0, 0, 0, 0, 0, 0, 0, 0, 0, 0, 0, 0, 0, 0, 0, 0, 0, 0, 0, 0, 0, 0, 0, 0, 0, 0, 0, 0, 0, 0, ...]</td>\n",
       "      <td>[1, 1, 1, 1, 1, 1, 1, 1, 1, 1, 1, 1, 1, 1, 1, 1, 1, 1, 1, 1, 1, 1, 1, 1, 1, 1, 1, 1, 1, 1, 1, 1, 1, 1, 1, 1, 1, 1, 1, 1, 1, 1, 1, 1, 1, 1, 1, 1, 1, 1, 1, 1, 1, 1, 1, 1, 1, 1, 1, 1, 1, 1, 1, 1, 1, 1, 1, 1, 1, 1, 1, 1, 1, 1, 1, 1, 1, 1, 1, 1, 1, 1, 1, 1, 1, 1, 1, 1, 1, 1, 1, 1, 1, 1, 1, 1, 1, 1, 1, 1, ...]</td>\n",
       "    </tr>\n",
       "  </tbody>\n",
       "</table>"
      ],
      "text/plain": [
       "<IPython.core.display.HTML object>"
      ]
     },
     "metadata": {},
     "output_type": "display_data"
    }
   ],
   "source": [
    "# 数据预处理\n",
    "from transformers import AutoTokenizer\n",
    "\n",
    "tokenizer = AutoTokenizer.from_pretrained(\"bert-base-cased\")\n",
    "\n",
    "\n",
    "def tokenize_function(examples):\n",
    "    return tokenizer(examples[\"text\"], padding=\"max_length\", truncation=True)\n",
    "\n",
    "\n",
    "tokenized_datasets = dataset.map(tokenize_function, batched=True)\n",
    "\n",
    "show_random_elements(tokenized_datasets[\"train\"], num_examples=1)\n",
    "\n",
    "# 使用全量数据计算，仅进行乱序\n",
    "\n",
    "train_dataset = tokenized_datasets[\"train\"].shuffle(seed=42)\n",
    "eval_dataset = tokenized_datasets[\"test\"].shuffle(seed=42)"
   ]
  },
  {
   "cell_type": "code",
   "execution_count": 4,
   "id": "00251352-a0e2-4788-b783-fa9b21eb5408",
   "metadata": {},
   "outputs": [
    {
     "data": {
      "application/vnd.jupyter.widget-view+json": {
       "model_id": "a1c39019488145ccbdc5dc44465bf847",
       "version_major": 2,
       "version_minor": 0
      },
      "text/plain": [
       "Downloading pytorch_model.bin:   0%|          | 0.00/416M [00:00<?, ?B/s]"
      ]
     },
     "metadata": {},
     "output_type": "display_data"
    },
    {
     "name": "stderr",
     "output_type": "stream",
     "text": [
      "Some weights of the model checkpoint at bert-base-cased were not used when initializing BertForSequenceClassification: ['cls.predictions.transform.dense.bias', 'cls.predictions.bias', 'cls.seq_relationship.weight', 'cls.predictions.transform.dense.weight', 'cls.predictions.transform.LayerNorm.weight', 'cls.predictions.transform.LayerNorm.bias', 'cls.predictions.decoder.weight', 'cls.seq_relationship.bias']\n",
      "- This IS expected if you are initializing BertForSequenceClassification from the checkpoint of a model trained on another task or with another architecture (e.g. initializing a BertForSequenceClassification model from a BertForPreTraining model).\n",
      "- This IS NOT expected if you are initializing BertForSequenceClassification from the checkpoint of a model that you expect to be exactly identical (initializing a BertForSequenceClassification model from a BertForSequenceClassification model).\n",
      "Some weights of BertForSequenceClassification were not initialized from the model checkpoint at bert-base-cased and are newly initialized: ['classifier.weight', 'classifier.bias']\n",
      "You should probably TRAIN this model on a down-stream task to be able to use it for predictions and inference.\n"
     ]
    }
   ],
   "source": [
    "# 加载模型\n",
    "from transformers import AutoModelForSequenceClassification\n",
    "\n",
    "model = AutoModelForSequenceClassification.from_pretrained(\"bert-base-cased\", num_labels=5)\n"
   ]
  },
  {
   "cell_type": "code",
   "execution_count": 6,
   "id": "aec7669e-c2f3-4b64-b037-a27ecf346b01",
   "metadata": {},
   "outputs": [
    {
     "name": "stderr",
     "output_type": "stream",
     "text": [
      "PyTorch: setting up devices\n"
     ]
    },
    {
     "name": "stdout",
     "output_type": "stream",
     "text": [
      "TrainingArguments(\n",
      "_n_gpu=1,\n",
      "adafactor=False,\n",
      "adam_beta1=0.9,\n",
      "adam_beta2=0.999,\n",
      "adam_epsilon=1e-08,\n",
      "auto_find_batch_size=False,\n",
      "bf16=False,\n",
      "bf16_full_eval=False,\n",
      "data_seed=None,\n",
      "dataloader_drop_last=False,\n",
      "dataloader_num_workers=0,\n",
      "dataloader_pin_memory=True,\n",
      "ddp_bucket_cap_mb=None,\n",
      "ddp_find_unused_parameters=None,\n",
      "debug=[],\n",
      "deepspeed=None,\n",
      "disable_tqdm=False,\n",
      "do_eval=True,\n",
      "do_predict=False,\n",
      "do_train=False,\n",
      "eval_accumulation_steps=None,\n",
      "eval_delay=0,\n",
      "eval_steps=None,\n",
      "evaluation_strategy=epoch,\n",
      "fp16=False,\n",
      "fp16_backend=auto,\n",
      "fp16_full_eval=False,\n",
      "fp16_opt_level=O1,\n",
      "fsdp=[],\n",
      "fsdp_min_num_params=0,\n",
      "fsdp_transformer_layer_cls_to_wrap=None,\n",
      "full_determinism=False,\n",
      "gradient_accumulation_steps=1,\n",
      "gradient_checkpointing=False,\n",
      "greater_is_better=None,\n",
      "group_by_length=False,\n",
      "half_precision_backend=auto,\n",
      "hub_model_id=None,\n",
      "hub_private_repo=False,\n",
      "hub_strategy=checkpoint,\n",
      "hub_token=<HUB_TOKEN>,\n",
      "ignore_data_skip=False,\n",
      "include_inputs_for_metrics=False,\n",
      "jit_mode_eval=False,\n",
      "label_names=None,\n",
      "label_smoothing_factor=0.0,\n",
      "learning_rate=5e-05,\n",
      "length_column_name=length,\n",
      "load_best_model_at_end=False,\n",
      "local_rank=-1,\n",
      "log_level=-1,\n",
      "log_level_replica=-1,\n",
      "log_on_each_node=True,\n",
      "logging_dir=models/bert-base-cased/test_trainer/runs,\n",
      "logging_first_step=False,\n",
      "logging_nan_inf_filter=True,\n",
      "logging_steps=5,\n",
      "logging_strategy=steps,\n",
      "lr_scheduler_type=linear,\n",
      "max_grad_norm=1.0,\n",
      "max_steps=-1,\n",
      "metric_for_best_model=None,\n",
      "mp_parameters=,\n",
      "no_cuda=False,\n",
      "num_train_epochs=3.0,\n",
      "optim=adamw_hf,\n",
      "output_dir=models/bert-base-cased/test_trainer,\n",
      "overwrite_output_dir=False,\n",
      "past_index=-1,\n",
      "per_device_eval_batch_size=64,\n",
      "per_device_train_batch_size=64,\n",
      "prediction_loss_only=False,\n",
      "push_to_hub=False,\n",
      "push_to_hub_model_id=None,\n",
      "push_to_hub_organization=None,\n",
      "push_to_hub_token=<PUSH_TO_HUB_TOKEN>,\n",
      "ray_scope=last,\n",
      "remove_unused_columns=True,\n",
      "report_to=['wandb'],\n",
      "resume_from_checkpoint=None,\n",
      "run_name=models/bert-base-cased/test_trainer,\n",
      "save_on_each_node=False,\n",
      "save_steps=500,\n",
      "save_strategy=steps,\n",
      "save_total_limit=2,\n",
      "seed=42,\n",
      "sharded_ddp=[],\n",
      "skip_memory_metrics=True,\n",
      "tf32=True,\n",
      "torchdynamo=None,\n",
      "tpu_metrics_debug=False,\n",
      "tpu_num_cores=None,\n",
      "use_ipex=False,\n",
      "use_legacy_prediction_loop=False,\n",
      "warmup_ratio=0.0,\n",
      "warmup_steps=0,\n",
      "weight_decay=0.0,\n",
      "xpu_backend=None,\n",
      ")\n"
     ]
    }
   ],
   "source": [
    "# 模型训练器\n",
    "import os\n",
    "from transformers import TrainingArguments, Trainer\n",
    "import numpy as np\n",
    "import evaluate\n",
    "import wandb\n",
    "import torch\n",
    "\n",
    "\n",
    "os.environ[\"WANDB_PROJECT\"]=\"fine-tune-quickstart\"\n",
    "os.environ[\"WANDB_LOG_MODEL\"]=\"true\"\n",
    "os.environ[\"WANDB_WATCH\"]=\"false\"\n",
    "\n",
    "\n",
    "model_dir = \"models/bert-base-cased\"\n",
    "\n",
    "torch.backends.cuda.matmul.allow_tf32 = True\n",
    "torch.backends.cudnn.allow_tf32 = True\n",
    "\n",
    "# logging_steps 默认值为500，根据我们的训练数据和步长，将其设置为100\n",
    "training_args = TrainingArguments(output_dir=f\"{model_dir}/test_trainer\",\n",
    "                                  evaluation_strategy=\"epoch\", \n",
    "                                  logging_dir=f\"{model_dir}/test_trainer/runs\",\n",
    "                                  per_device_train_batch_size=64,\n",
    "                                  per_device_eval_batch_size=64,\n",
    "                                  tf32=True,\n",
    "                                  save_total_limit=2,\n",
    "                                  hub_strategy=\"checkpoint\",\n",
    "                                  save_strategy=\"steps\",\n",
    "                                  save_steps=500,\n",
    "                                  ignore_data_skip=False,\n",
    "                                  report_to=\"wandb\",\n",
    "                                  logging_steps=5,\n",
    "                                 )\n",
    "\n",
    "print(training_args)\n",
    "\n",
    "# 定义模型评估函数\n",
    "metric = evaluate.load(\"accuracy\")\n",
    "def compute_metrics(eval_pred):\n",
    "    logits, labels = eval_pred\n",
    "    predictions = np.argmax(logits, axis=-1)\n",
    "    return metric.compute(predictions=predictions, references=labels)\n",
    "\n",
    "\n",
    "\n",
    "\n",
    "trainer = Trainer(\n",
    "    model=model,\n",
    "    \n",
    "     \n",
    "    args=training_args,\n",
    "    train_dataset=train_dataset,\n",
    "    eval_dataset=eval_dataset,\n",
    "    compute_metrics=compute_metrics,\n",
    ")"
   ]
  },
  {
   "cell_type": "code",
   "execution_count": 7,
   "id": "9d473944-1620-42e4-925c-2fd475f7a3d7",
   "metadata": {},
   "outputs": [
    {
     "name": "stderr",
     "output_type": "stream",
     "text": [
      "Loading model from models/bert-base-cased/test_trainer/checkpoint-18000.\n",
      "The following columns in the training set don't have a corresponding argument in `BertForSequenceClassification.forward` and have been ignored: text. If text are not expected by `BertForSequenceClassification.forward`,  you can safely ignore this message.\n",
      "/usr/local/lib/python3.9/dist-packages/transformers/optimization.py:306: FutureWarning: This implementation of AdamW is deprecated and will be removed in a future version. Use the PyTorch implementation torch.optim.AdamW instead, or set `no_deprecation_warning=True` to disable this warning\n",
      "  warnings.warn(\n",
      "***** Running training *****\n",
      "  Num examples = 650000\n",
      "  Num Epochs = 3\n",
      "  Instantaneous batch size per device = 64\n",
      "  Total train batch size (w. parallel, distributed & accumulation) = 64\n",
      "  Gradient Accumulation steps = 1\n",
      "  Total optimization steps = 30471\n",
      "  Continuing training from checkpoint, will skip to saved global_step\n",
      "  Continuing training from epoch 1\n",
      "  Continuing training from global step 18000\n",
      "  Will skip the first 1 epochs then the first 7843 batches in the first epoch. If this takes a lot of time, you can add the `--ignore_data_skip` flag to your launch command, but you will resume the training on data already seen by your model.\n"
     ]
    },
    {
     "data": {
      "application/vnd.jupyter.widget-view+json": {
       "model_id": "16a829ba8f2e49769d52f04f92f0145e",
       "version_major": 2,
       "version_minor": 0
      },
      "text/plain": [
       "  0%|          | 0/7843 [00:00<?, ?it/s]"
      ]
     },
     "metadata": {},
     "output_type": "display_data"
    },
    {
     "name": "stderr",
     "output_type": "stream",
     "text": [
      "Automatic Weights & Biases logging enabled, to disable set os.environ[\"WANDB_DISABLED\"] = \"true\"\n"
     ]
    },
    {
     "name": "stdout",
     "output_type": "stream",
     "text": [
      "huggingface/tokenizers: The current process just got forked, after parallelism has already been used. Disabling parallelism to avoid deadlocks...\n",
      "To disable this warning, you can either:\n",
      "\t- Avoid using `tokenizers` before the fork if possible\n",
      "\t- Explicitly set the environment variable TOKENIZERS_PARALLELISM=(true | false)\n"
     ]
    },
    {
     "name": "stderr",
     "output_type": "stream",
     "text": [
      "\u001b[34m\u001b[1mwandb\u001b[0m: Logging into wandb.ai. (Learn how to deploy a W&B server locally: https://wandb.me/wandb-server)\n",
      "\u001b[34m\u001b[1mwandb\u001b[0m: You can find your API key in your browser here: https://wandb.ai/authorize\n",
      "\u001b[34m\u001b[1mwandb\u001b[0m: Paste an API key from your profile and hit enter, or press ctrl+c to quit:"
     ]
    },
    {
     "name": "stdin",
     "output_type": "stream",
     "text": [
      "  ········\n"
     ]
    },
    {
     "name": "stderr",
     "output_type": "stream",
     "text": [
      "\u001b[34m\u001b[1mwandb\u001b[0m: Appending key for api.wandb.ai to your netrc file: /root/.netrc\n"
     ]
    },
    {
     "name": "stdout",
     "output_type": "stream",
     "text": [
      "huggingface/tokenizers: The current process just got forked, after parallelism has already been used. Disabling parallelism to avoid deadlocks...\n",
      "To disable this warning, you can either:\n",
      "\t- Avoid using `tokenizers` before the fork if possible\n",
      "\t- Explicitly set the environment variable TOKENIZERS_PARALLELISM=(true | false)\n",
      "huggingface/tokenizers: The current process just got forked, after parallelism has already been used. Disabling parallelism to avoid deadlocks...\n",
      "To disable this warning, you can either:\n",
      "\t- Avoid using `tokenizers` before the fork if possible\n",
      "\t- Explicitly set the environment variable TOKENIZERS_PARALLELISM=(true | false)\n"
     ]
    },
    {
     "data": {
      "text/html": [
       "wandb version 0.16.1 is available!  To upgrade, please run:\n",
       " $ pip install wandb --upgrade"
      ],
      "text/plain": [
       "<IPython.core.display.HTML object>"
      ]
     },
     "metadata": {},
     "output_type": "display_data"
    },
    {
     "data": {
      "text/html": [
       "Tracking run with wandb version 0.13.4"
      ],
      "text/plain": [
       "<IPython.core.display.HTML object>"
      ]
     },
     "metadata": {},
     "output_type": "display_data"
    },
    {
     "data": {
      "text/html": [
       "Run data is saved locally in <code>/notebooks/wandb/run-20231222_061030-34fizsmz</code>"
      ],
      "text/plain": [
       "<IPython.core.display.HTML object>"
      ]
     },
     "metadata": {},
     "output_type": "display_data"
    },
    {
     "data": {
      "text/html": [
       "Syncing run <strong><a href=\"https://wandb.ai/ujj3001/fine-tune-quickstart/runs/34fizsmz\" target=\"_blank\">models/bert-base-cased/test_trainer</a></strong> to <a href=\"https://wandb.ai/ujj3001/fine-tune-quickstart\" target=\"_blank\">Weights & Biases</a> (<a href=\"https://wandb.me/run\" target=\"_blank\">docs</a>)<br/>"
      ],
      "text/plain": [
       "<IPython.core.display.HTML object>"
      ]
     },
     "metadata": {},
     "output_type": "display_data"
    },
    {
     "data": {
      "text/html": [
       "\n",
       "    <div>\n",
       "      \n",
       "      <progress value='30471' max='30471' style='width:300px; height:20px; vertical-align: middle;'></progress>\n",
       "      [30471/30471 3:12:40, Epoch 3/3]\n",
       "    </div>\n",
       "    <table border=\"1\" class=\"dataframe\">\n",
       "  <thead>\n",
       " <tr style=\"text-align: left;\">\n",
       "      <th>Epoch</th>\n",
       "      <th>Training Loss</th>\n",
       "      <th>Validation Loss</th>\n",
       "      <th>Accuracy</th>\n",
       "    </tr>\n",
       "  </thead>\n",
       "  <tbody>\n",
       "    <tr>\n",
       "      <td>2</td>\n",
       "      <td>0.715000</td>\n",
       "      <td>0.695126</td>\n",
       "      <td>0.697560</td>\n",
       "    </tr>\n",
       "    <tr>\n",
       "      <td>3</td>\n",
       "      <td>0.627900</td>\n",
       "      <td>0.730952</td>\n",
       "      <td>0.695920</td>\n",
       "    </tr>\n",
       "  </tbody>\n",
       "</table><p>"
      ],
      "text/plain": [
       "<IPython.core.display.HTML object>"
      ]
     },
     "metadata": {},
     "output_type": "display_data"
    },
    {
     "name": "stderr",
     "output_type": "stream",
     "text": [
      "Saving model checkpoint to models/bert-base-cased/test_trainer/checkpoint-18500\n",
      "Configuration saved in models/bert-base-cased/test_trainer/checkpoint-18500/config.json\n",
      "Model weights saved in models/bert-base-cased/test_trainer/checkpoint-18500/pytorch_model.bin\n",
      "Deleting older checkpoint [models/bert-base-cased/test_trainer/checkpoint-17500] due to args.save_total_limit\n",
      "Saving model checkpoint to models/bert-base-cased/test_trainer/checkpoint-19000\n",
      "Configuration saved in models/bert-base-cased/test_trainer/checkpoint-19000/config.json\n",
      "Model weights saved in models/bert-base-cased/test_trainer/checkpoint-19000/pytorch_model.bin\n",
      "Deleting older checkpoint [models/bert-base-cased/test_trainer/checkpoint-18000] due to args.save_total_limit\n",
      "Saving model checkpoint to models/bert-base-cased/test_trainer/checkpoint-19500\n",
      "Configuration saved in models/bert-base-cased/test_trainer/checkpoint-19500/config.json\n",
      "Model weights saved in models/bert-base-cased/test_trainer/checkpoint-19500/pytorch_model.bin\n",
      "Deleting older checkpoint [models/bert-base-cased/test_trainer/checkpoint-18500] due to args.save_total_limit\n",
      "Saving model checkpoint to models/bert-base-cased/test_trainer/checkpoint-20000\n",
      "Configuration saved in models/bert-base-cased/test_trainer/checkpoint-20000/config.json\n",
      "Model weights saved in models/bert-base-cased/test_trainer/checkpoint-20000/pytorch_model.bin\n",
      "Deleting older checkpoint [models/bert-base-cased/test_trainer/checkpoint-19000] due to args.save_total_limit\n",
      "The following columns in the evaluation set don't have a corresponding argument in `BertForSequenceClassification.forward` and have been ignored: text. If text are not expected by `BertForSequenceClassification.forward`,  you can safely ignore this message.\n",
      "***** Running Evaluation *****\n",
      "  Num examples = 50000\n",
      "  Batch size = 64\n",
      "Saving model checkpoint to models/bert-base-cased/test_trainer/checkpoint-20500\n",
      "Configuration saved in models/bert-base-cased/test_trainer/checkpoint-20500/config.json\n",
      "Model weights saved in models/bert-base-cased/test_trainer/checkpoint-20500/pytorch_model.bin\n",
      "Deleting older checkpoint [models/bert-base-cased/test_trainer/checkpoint-19500] due to args.save_total_limit\n",
      "Saving model checkpoint to models/bert-base-cased/test_trainer/checkpoint-21000\n",
      "Configuration saved in models/bert-base-cased/test_trainer/checkpoint-21000/config.json\n",
      "Model weights saved in models/bert-base-cased/test_trainer/checkpoint-21000/pytorch_model.bin\n",
      "Deleting older checkpoint [models/bert-base-cased/test_trainer/checkpoint-20000] due to args.save_total_limit\n",
      "Saving model checkpoint to models/bert-base-cased/test_trainer/checkpoint-21500\n",
      "Configuration saved in models/bert-base-cased/test_trainer/checkpoint-21500/config.json\n",
      "Model weights saved in models/bert-base-cased/test_trainer/checkpoint-21500/pytorch_model.bin\n",
      "Deleting older checkpoint [models/bert-base-cased/test_trainer/checkpoint-20500] due to args.save_total_limit\n",
      "Saving model checkpoint to models/bert-base-cased/test_trainer/checkpoint-22000\n",
      "Configuration saved in models/bert-base-cased/test_trainer/checkpoint-22000/config.json\n",
      "Model weights saved in models/bert-base-cased/test_trainer/checkpoint-22000/pytorch_model.bin\n",
      "Deleting older checkpoint [models/bert-base-cased/test_trainer/checkpoint-21000] due to args.save_total_limit\n",
      "Saving model checkpoint to models/bert-base-cased/test_trainer/checkpoint-22500\n",
      "Configuration saved in models/bert-base-cased/test_trainer/checkpoint-22500/config.json\n",
      "Model weights saved in models/bert-base-cased/test_trainer/checkpoint-22500/pytorch_model.bin\n",
      "Deleting older checkpoint [models/bert-base-cased/test_trainer/checkpoint-21500] due to args.save_total_limit\n",
      "Saving model checkpoint to models/bert-base-cased/test_trainer/checkpoint-23000\n",
      "Configuration saved in models/bert-base-cased/test_trainer/checkpoint-23000/config.json\n",
      "Model weights saved in models/bert-base-cased/test_trainer/checkpoint-23000/pytorch_model.bin\n",
      "Deleting older checkpoint [models/bert-base-cased/test_trainer/checkpoint-22000] due to args.save_total_limit\n",
      "Saving model checkpoint to models/bert-base-cased/test_trainer/checkpoint-23500\n",
      "Configuration saved in models/bert-base-cased/test_trainer/checkpoint-23500/config.json\n",
      "Model weights saved in models/bert-base-cased/test_trainer/checkpoint-23500/pytorch_model.bin\n",
      "Deleting older checkpoint [models/bert-base-cased/test_trainer/checkpoint-22500] due to args.save_total_limit\n",
      "Saving model checkpoint to models/bert-base-cased/test_trainer/checkpoint-24000\n",
      "Configuration saved in models/bert-base-cased/test_trainer/checkpoint-24000/config.json\n",
      "Model weights saved in models/bert-base-cased/test_trainer/checkpoint-24000/pytorch_model.bin\n",
      "Deleting older checkpoint [models/bert-base-cased/test_trainer/checkpoint-23000] due to args.save_total_limit\n",
      "Saving model checkpoint to models/bert-base-cased/test_trainer/checkpoint-24500\n",
      "Configuration saved in models/bert-base-cased/test_trainer/checkpoint-24500/config.json\n",
      "Model weights saved in models/bert-base-cased/test_trainer/checkpoint-24500/pytorch_model.bin\n",
      "Deleting older checkpoint [models/bert-base-cased/test_trainer/checkpoint-23500] due to args.save_total_limit\n",
      "Saving model checkpoint to models/bert-base-cased/test_trainer/checkpoint-25000\n",
      "Configuration saved in models/bert-base-cased/test_trainer/checkpoint-25000/config.json\n",
      "Model weights saved in models/bert-base-cased/test_trainer/checkpoint-25000/pytorch_model.bin\n",
      "Deleting older checkpoint [models/bert-base-cased/test_trainer/checkpoint-24000] due to args.save_total_limit\n",
      "Saving model checkpoint to models/bert-base-cased/test_trainer/checkpoint-25500\n",
      "Configuration saved in models/bert-base-cased/test_trainer/checkpoint-25500/config.json\n",
      "Model weights saved in models/bert-base-cased/test_trainer/checkpoint-25500/pytorch_model.bin\n",
      "Deleting older checkpoint [models/bert-base-cased/test_trainer/checkpoint-24500] due to args.save_total_limit\n",
      "Saving model checkpoint to models/bert-base-cased/test_trainer/checkpoint-26000\n",
      "Configuration saved in models/bert-base-cased/test_trainer/checkpoint-26000/config.json\n",
      "Model weights saved in models/bert-base-cased/test_trainer/checkpoint-26000/pytorch_model.bin\n",
      "Deleting older checkpoint [models/bert-base-cased/test_trainer/checkpoint-25000] due to args.save_total_limit\n",
      "Saving model checkpoint to models/bert-base-cased/test_trainer/checkpoint-26500\n",
      "Configuration saved in models/bert-base-cased/test_trainer/checkpoint-26500/config.json\n",
      "Model weights saved in models/bert-base-cased/test_trainer/checkpoint-26500/pytorch_model.bin\n",
      "Deleting older checkpoint [models/bert-base-cased/test_trainer/checkpoint-25500] due to args.save_total_limit\n",
      "Saving model checkpoint to models/bert-base-cased/test_trainer/checkpoint-27000\n",
      "Configuration saved in models/bert-base-cased/test_trainer/checkpoint-27000/config.json\n",
      "Model weights saved in models/bert-base-cased/test_trainer/checkpoint-27000/pytorch_model.bin\n",
      "Deleting older checkpoint [models/bert-base-cased/test_trainer/checkpoint-26000] due to args.save_total_limit\n",
      "Saving model checkpoint to models/bert-base-cased/test_trainer/checkpoint-27500\n",
      "Configuration saved in models/bert-base-cased/test_trainer/checkpoint-27500/config.json\n",
      "Model weights saved in models/bert-base-cased/test_trainer/checkpoint-27500/pytorch_model.bin\n",
      "Deleting older checkpoint [models/bert-base-cased/test_trainer/checkpoint-26500] due to args.save_total_limit\n",
      "Saving model checkpoint to models/bert-base-cased/test_trainer/checkpoint-28000\n",
      "Configuration saved in models/bert-base-cased/test_trainer/checkpoint-28000/config.json\n",
      "Model weights saved in models/bert-base-cased/test_trainer/checkpoint-28000/pytorch_model.bin\n",
      "Deleting older checkpoint [models/bert-base-cased/test_trainer/checkpoint-27000] due to args.save_total_limit\n",
      "Saving model checkpoint to models/bert-base-cased/test_trainer/checkpoint-28500\n",
      "Configuration saved in models/bert-base-cased/test_trainer/checkpoint-28500/config.json\n",
      "Model weights saved in models/bert-base-cased/test_trainer/checkpoint-28500/pytorch_model.bin\n",
      "Deleting older checkpoint [models/bert-base-cased/test_trainer/checkpoint-27500] due to args.save_total_limit\n",
      "Saving model checkpoint to models/bert-base-cased/test_trainer/checkpoint-29000\n",
      "Configuration saved in models/bert-base-cased/test_trainer/checkpoint-29000/config.json\n",
      "Model weights saved in models/bert-base-cased/test_trainer/checkpoint-29000/pytorch_model.bin\n",
      "Deleting older checkpoint [models/bert-base-cased/test_trainer/checkpoint-28000] due to args.save_total_limit\n",
      "Saving model checkpoint to models/bert-base-cased/test_trainer/checkpoint-29500\n",
      "Configuration saved in models/bert-base-cased/test_trainer/checkpoint-29500/config.json\n",
      "Model weights saved in models/bert-base-cased/test_trainer/checkpoint-29500/pytorch_model.bin\n",
      "Deleting older checkpoint [models/bert-base-cased/test_trainer/checkpoint-28500] due to args.save_total_limit\n",
      "Saving model checkpoint to models/bert-base-cased/test_trainer/checkpoint-30000\n",
      "Configuration saved in models/bert-base-cased/test_trainer/checkpoint-30000/config.json\n",
      "Model weights saved in models/bert-base-cased/test_trainer/checkpoint-30000/pytorch_model.bin\n",
      "Deleting older checkpoint [models/bert-base-cased/test_trainer/checkpoint-29000] due to args.save_total_limit\n",
      "The following columns in the evaluation set don't have a corresponding argument in `BertForSequenceClassification.forward` and have been ignored: text. If text are not expected by `BertForSequenceClassification.forward`,  you can safely ignore this message.\n",
      "***** Running Evaluation *****\n",
      "  Num examples = 50000\n",
      "  Batch size = 64\n",
      "\n",
      "\n",
      "Training completed. Do not forget to share your model on huggingface.co/models =)\n",
      "\n",
      "\n",
      "Saving model checkpoint to /tmp/tmp_mu6e1mt\n",
      "Configuration saved in /tmp/tmp_mu6e1mt/config.json\n",
      "Model weights saved in /tmp/tmp_mu6e1mt/pytorch_model.bin\n"
     ]
    }
   ],
   "source": [
    "from transformers.trainer_utils import get_last_checkpoint\n",
    "\n",
    "resume_from_checkpoint = get_last_checkpoint(training_args.output_dir)\n",
    "if resume_from_checkpoint is None:\n",
    "    trainer.train()\n",
    "else:\n",
    "    trainer.train(resume_from_checkpoint=True)\n"
   ]
  },
  {
   "cell_type": "code",
   "execution_count": 8,
   "id": "01222750-bbbe-41af-a62f-4911b24c8678",
   "metadata": {},
   "outputs": [
    {
     "name": "stderr",
     "output_type": "stream",
     "text": [
      "The following columns in the evaluation set don't have a corresponding argument in `BertForSequenceClassification.forward` and have been ignored: text. If text are not expected by `BertForSequenceClassification.forward`,  you can safely ignore this message.\n",
      "***** Running Evaluation *****\n",
      "  Num examples = 500\n",
      "  Batch size = 64\n"
     ]
    },
    {
     "data": {
      "text/html": [
       "\n",
       "    <div>\n",
       "      \n",
       "      <progress value='8' max='8' style='width:300px; height:20px; vertical-align: middle;'></progress>\n",
       "      [8/8 00:02]\n",
       "    </div>\n",
       "    "
      ],
      "text/plain": [
       "<IPython.core.display.HTML object>"
      ]
     },
     "metadata": {},
     "output_type": "display_data"
    },
    {
     "data": {
      "text/plain": [
       "{'eval_loss': 0.7053589820861816,\n",
       " 'eval_accuracy': 0.666,\n",
       " 'eval_runtime': 2.4157,\n",
       " 'eval_samples_per_second': 206.978,\n",
       " 'eval_steps_per_second': 3.312,\n",
       " 'epoch': 3.0}"
      ]
     },
     "execution_count": 8,
     "metadata": {},
     "output_type": "execute_result"
    }
   ],
   "source": [
    "# 验证\n",
    "\n",
    "small_test_dataset = tokenized_datasets[\"test\"].shuffle(seed=64).select(range(500))\n",
    "trainer.evaluate(small_test_dataset)\n"
   ]
  },
  {
   "cell_type": "code",
   "execution_count": 9,
   "id": "6d19cd67-5708-48ca-85cf-af3cc6871664",
   "metadata": {},
   "outputs": [
    {
     "name": "stderr",
     "output_type": "stream",
     "text": [
      "Saving model checkpoint to models/bert-base-cased/finetuned-trainer\n",
      "Configuration saved in models/bert-base-cased/finetuned-trainer/config.json\n",
      "Model weights saved in models/bert-base-cased/finetuned-trainer/pytorch_model.bin\n"
     ]
    },
    {
     "data": {
      "text/html": [
       "Waiting for W&B process to finish... <strong style=\"color:green\">(success).</strong>"
      ],
      "text/plain": [
       "<IPython.core.display.HTML object>"
      ]
     },
     "metadata": {},
     "output_type": "display_data"
    },
    {
     "data": {
      "application/vnd.jupyter.widget-view+json": {
       "model_id": "c64e799c3cbf4a75844cf46de727c09f",
       "version_major": 2,
       "version_minor": 0
      },
      "text/plain": [
       "VBox(children=(Label(value='413.258 MB of 413.258 MB uploaded (0.000 MB deduped)\\r'), FloatProgress(value=1.0,…"
      ]
     },
     "metadata": {},
     "output_type": "display_data"
    },
    {
     "data": {
      "text/html": [
       "<style>\n",
       "    table.wandb td:nth-child(1) { padding: 0 10px; text-align: left ; width: auto;} td:nth-child(2) {text-align: left ; width: 100%}\n",
       "    .wandb-row { display: flex; flex-direction: row; flex-wrap: wrap; justify-content: flex-start; width: 100% }\n",
       "    .wandb-col { display: flex; flex-direction: column; flex-basis: 100%; flex: 1; padding: 10px; }\n",
       "    </style>\n",
       "<div class=\"wandb-row\"><div class=\"wandb-col\"><h3>Run history:</h3><br/><table class=\"wandb\"><tr><td>eval/accuracy</td><td>██▁</td></tr><tr><td>eval/loss</td><td>▁█▃</td></tr><tr><td>eval/runtime</td><td>██▁</td></tr><tr><td>eval/samples_per_second</td><td>█▇▁</td></tr><tr><td>eval/steps_per_second</td><td>▁▁█</td></tr><tr><td>train/epoch</td><td>▁▁▁▁▂▂▂▂▂▃▃▃▃▃▃▄▄▄▄▄▅▅▅▅▅▅▆▆▆▆▆▇▇▇▇▇▇███</td></tr><tr><td>train/global_step</td><td>▁▁▁▁▂▂▂▂▂▃▃▃▃▃▃▄▄▄▄▄▅▅▅▅▅▅▆▆▆▆▆▇▇▇▇▇▇███</td></tr><tr><td>train/learning_rate</td><td>████▇▇▇▇▇▆▆▆▆▆▆▅▅▅▅▅▅▄▄▄▄▄▃▃▃▃▃▂▂▂▂▂▂▁▁▁</td></tr><tr><td>train/loss</td><td>▇▅▆▇█▇▆▇▃▄▃▇▄▄▄▃▂▃▃▃▄▂▄▅▄▅▃▃▆▁▁▂▃▄▃▂▃▄▁▂</td></tr><tr><td>train/total_flos</td><td>▁</td></tr><tr><td>train/train_loss</td><td>▁</td></tr><tr><td>train/train_runtime</td><td>▁</td></tr><tr><td>train/train_samples_per_second</td><td>▁</td></tr><tr><td>train/train_steps_per_second</td><td>▁</td></tr></table><br/></div><div class=\"wandb-col\"><h3>Run summary:</h3><br/><table class=\"wandb\"><tr><td>eval/accuracy</td><td>0.666</td></tr><tr><td>eval/loss</td><td>0.70536</td></tr><tr><td>eval/runtime</td><td>2.4157</td></tr><tr><td>eval/samples_per_second</td><td>206.978</td></tr><tr><td>eval/steps_per_second</td><td>3.312</td></tr><tr><td>train/epoch</td><td>3.0</td></tr><tr><td>train/global_step</td><td>30471</td></tr><tr><td>train/learning_rate</td><td>0.0</td></tr><tr><td>train/loss</td><td>0.6279</td></tr><tr><td>train/total_flos</td><td>5.130803778048e+17</td></tr><tr><td>train/train_loss</td><td>0.22997</td></tr><tr><td>train/train_runtime</td><td>11857.3361</td></tr><tr><td>train/train_samples_per_second</td><td>164.455</td></tr><tr><td>train/train_steps_per_second</td><td>2.57</td></tr></table><br/></div></div>"
      ],
      "text/plain": [
       "<IPython.core.display.HTML object>"
      ]
     },
     "metadata": {},
     "output_type": "display_data"
    },
    {
     "data": {
      "text/html": [
       "Synced <strong style=\"color:#cdcd00\">models/bert-base-cased/test_trainer</strong>: <a href=\"https://wandb.ai/ujj3001/fine-tune-quickstart/runs/34fizsmz\" target=\"_blank\">https://wandb.ai/ujj3001/fine-tune-quickstart/runs/34fizsmz</a><br/>Synced 5 W&B file(s), 0 media file(s), 3 artifact file(s) and 0 other file(s)"
      ],
      "text/plain": [
       "<IPython.core.display.HTML object>"
      ]
     },
     "metadata": {},
     "output_type": "display_data"
    },
    {
     "data": {
      "text/html": [
       "Find logs at: <code>./wandb/run-20231222_061030-34fizsmz/logs</code>"
      ],
      "text/plain": [
       "<IPython.core.display.HTML object>"
      ]
     },
     "metadata": {},
     "output_type": "display_data"
    }
   ],
   "source": [
    "trainer.save_model(f\"{model_dir}/finetuned-trainer\")\n",
    "trainer.save_state()\n",
    "wandb.finish()"
   ]
  },
  {
   "cell_type": "code",
   "execution_count": null,
   "id": "c49763d4-6f55-461a-8fca-bd54e91a0484",
   "metadata": {},
   "outputs": [],
   "source": []
  },
  {
   "cell_type": "code",
   "execution_count": null,
   "id": "da7e122d-667f-4f69-9637-1637f4ed7ea8",
   "metadata": {},
   "outputs": [],
   "source": []
  }
 ],
 "metadata": {
  "kernelspec": {
   "display_name": "Python 3 (ipykernel)",
   "language": "python",
   "name": "python3"
  },
  "language_info": {
   "codemirror_mode": {
    "name": "ipython",
    "version": 3
   },
   "file_extension": ".py",
   "mimetype": "text/x-python",
   "name": "python",
   "nbconvert_exporter": "python",
   "pygments_lexer": "ipython3",
   "version": "3.9.16"
  }
 },
 "nbformat": 4,
 "nbformat_minor": 5
}
