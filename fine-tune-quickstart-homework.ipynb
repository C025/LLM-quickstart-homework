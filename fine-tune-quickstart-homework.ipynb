{
 "cells": [
  {
   "cell_type": "markdown",
   "id": "e0aa29f4-9e17-4c88-8b3c-afb9bcd30532",
   "metadata": {
    "tags": []
   },
   "source": [
    "# Homework: 使用完整的 YelpReviewFull 数据集训练，对比看 Acc 最高能到多少"
   ]
  },
  {
   "cell_type": "code",
   "execution_count": 1,
   "id": "999015a3-e291-4b98-b60a-438352b7ba5e",
   "metadata": {
    "jp-MarkdownHeadingCollapsed": true,
    "tags": []
   },
   "outputs": [
    {
     "name": "stderr",
     "output_type": "stream",
     "text": [
      "Reusing dataset yelp_review_full (/root/.cache/huggingface/datasets/yelp_review_full/yelp_review_full/1.0.0/e8e18e19d7be9e75642fc66b198abadb116f73599ec89a69ba5dd8d1e57ba0bf)\n"
     ]
    },
    {
     "data": {
      "application/vnd.jupyter.widget-view+json": {
       "model_id": "8092d4f92fbe4900a56abc9f567aaa75",
       "version_major": 2,
       "version_minor": 0
      },
      "text/plain": [
       "  0%|          | 0/2 [00:00<?, ?it/s]"
      ]
     },
     "metadata": {},
     "output_type": "display_data"
    }
   ],
   "source": [
    "# 数据集加载和处理\n",
    "from datasets import load_dataset\n",
    "\n",
    "dataset = load_dataset(\"yelp_review_full\")\n"
   ]
  },
  {
   "cell_type": "code",
   "execution_count": 2,
   "id": "3a267965-e8c2-4da7-b8b7-7aed9090765c",
   "metadata": {},
   "outputs": [],
   "source": [
    "import random\n",
    "import pandas as pd\n",
    "import datasets\n",
    "from IPython.display import display, HTML\n",
    "\n",
    "def show_random_elements(dataset, num_examples=10):\n",
    "    assert num_examples <= len(dataset), \"Can't pick more elements than there are in the dataset.\"\n",
    "    picks = []\n",
    "    for _ in range(num_examples):\n",
    "        pick = random.randint(0, len(dataset)-1)\n",
    "        while pick in picks:\n",
    "            pick = random.randint(0, len(dataset)-1)\n",
    "        picks.append(pick)\n",
    "    \n",
    "    df = pd.DataFrame(dataset[picks])\n",
    "    for column, typ in dataset.features.items():\n",
    "        if isinstance(typ, datasets.ClassLabel):\n",
    "            df[column] = df[column].transform(lambda i: typ.names[i])\n",
    "    display(HTML(df.to_html()))\n",
    "    \n",
    "    \n"
   ]
  },
  {
   "cell_type": "code",
   "execution_count": 3,
   "id": "a61e3e25-8534-4cc1-9d71-e232d068168f",
   "metadata": {},
   "outputs": [
    {
     "name": "stderr",
     "output_type": "stream",
     "text": [
      "Loading cached processed dataset at /root/.cache/huggingface/datasets/yelp_review_full/yelp_review_full/1.0.0/e8e18e19d7be9e75642fc66b198abadb116f73599ec89a69ba5dd8d1e57ba0bf/cache-bdeeeb5eac0c8a8b.arrow\n",
      "Loading cached processed dataset at /root/.cache/huggingface/datasets/yelp_review_full/yelp_review_full/1.0.0/e8e18e19d7be9e75642fc66b198abadb116f73599ec89a69ba5dd8d1e57ba0bf/cache-29089685913b5149.arrow\n"
     ]
    },
    {
     "data": {
      "text/html": [
       "<table border=\"1\" class=\"dataframe\">\n",
       "  <thead>\n",
       "    <tr style=\"text-align: right;\">\n",
       "      <th></th>\n",
       "      <th>label</th>\n",
       "      <th>text</th>\n",
       "      <th>input_ids</th>\n",
       "      <th>token_type_ids</th>\n",
       "      <th>attention_mask</th>\n",
       "    </tr>\n",
       "  </thead>\n",
       "  <tbody>\n",
       "    <tr>\n",
       "      <th>0</th>\n",
       "      <td>5 stars</td>\n",
       "      <td>Finally a burger place to replace that greasy burger joint we are all used to! Great tasting homemade burgers.  The fries are so fresh. Kids love this place because no one cares if they are talking to loud. Everyone seems happy to be there and you can order online to avoid a line! And yes there are free peanuts!</td>\n",
       "      <td>[101, 4428, 170, 171, 23872, 1282, 1106, 4971, 1115, 176, 11811, 5821, 171, 23872, 4091, 1195, 1132, 1155, 1215, 1106, 106, 2038, 21296, 1313, 12540, 171, 23872, 1116, 119, 1109, 175, 3377, 1132, 1177, 4489, 119, 9904, 1567, 1142, 1282, 1272, 1185, 1141, 16903, 1191, 1152, 1132, 2520, 1106, 4632, 119, 6064, 3093, 2816, 1106, 1129, 1175, 1105, 1128, 1169, 1546, 3294, 1106, 3644, 170, 1413, 106, 1262, 4208, 1175, 1132, 1714, 185, 23629, 1116, 106, 102, 0, 0, 0, 0, 0, 0, 0, 0, 0, 0, 0, 0, 0, 0, 0, 0, 0, 0, 0, 0, 0, 0, 0, ...]</td>\n",
       "      <td>[0, 0, 0, 0, 0, 0, 0, 0, 0, 0, 0, 0, 0, 0, 0, 0, 0, 0, 0, 0, 0, 0, 0, 0, 0, 0, 0, 0, 0, 0, 0, 0, 0, 0, 0, 0, 0, 0, 0, 0, 0, 0, 0, 0, 0, 0, 0, 0, 0, 0, 0, 0, 0, 0, 0, 0, 0, 0, 0, 0, 0, 0, 0, 0, 0, 0, 0, 0, 0, 0, 0, 0, 0, 0, 0, 0, 0, 0, 0, 0, 0, 0, 0, 0, 0, 0, 0, 0, 0, 0, 0, 0, 0, 0, 0, 0, 0, 0, 0, 0, ...]</td>\n",
       "      <td>[1, 1, 1, 1, 1, 1, 1, 1, 1, 1, 1, 1, 1, 1, 1, 1, 1, 1, 1, 1, 1, 1, 1, 1, 1, 1, 1, 1, 1, 1, 1, 1, 1, 1, 1, 1, 1, 1, 1, 1, 1, 1, 1, 1, 1, 1, 1, 1, 1, 1, 1, 1, 1, 1, 1, 1, 1, 1, 1, 1, 1, 1, 1, 1, 1, 1, 1, 1, 1, 1, 1, 1, 1, 1, 1, 1, 1, 0, 0, 0, 0, 0, 0, 0, 0, 0, 0, 0, 0, 0, 0, 0, 0, 0, 0, 0, 0, 0, 0, 0, ...]</td>\n",
       "    </tr>\n",
       "  </tbody>\n",
       "</table>"
      ],
      "text/plain": [
       "<IPython.core.display.HTML object>"
      ]
     },
     "metadata": {},
     "output_type": "display_data"
    },
    {
     "name": "stderr",
     "output_type": "stream",
     "text": [
      "Loading cached shuffled indices for dataset at /root/.cache/huggingface/datasets/yelp_review_full/yelp_review_full/1.0.0/e8e18e19d7be9e75642fc66b198abadb116f73599ec89a69ba5dd8d1e57ba0bf/cache-20dce6b5ce11b893.arrow\n",
      "Loading cached shuffled indices for dataset at /root/.cache/huggingface/datasets/yelp_review_full/yelp_review_full/1.0.0/e8e18e19d7be9e75642fc66b198abadb116f73599ec89a69ba5dd8d1e57ba0bf/cache-3ef04ad90c3425ab.arrow\n"
     ]
    }
   ],
   "source": [
    "# 数据预处理\n",
    "from transformers import AutoTokenizer\n",
    "\n",
    "tokenizer = AutoTokenizer.from_pretrained(\"bert-base-cased\")\n",
    "\n",
    "\n",
    "def tokenize_function(examples):\n",
    "    return tokenizer(examples[\"text\"], padding=\"max_length\", truncation=True)\n",
    "\n",
    "\n",
    "tokenized_datasets = dataset.map(tokenize_function, batched=True)\n",
    "\n",
    "show_random_elements(tokenized_datasets[\"train\"], num_examples=1)\n",
    "\n",
    "# 使用全量数据计算，仅进行乱序\n",
    "\n",
    "train_dataset = tokenized_datasets[\"train\"].shuffle(seed=42)\n",
    "eval_dataset = tokenized_datasets[\"test\"].shuffle(seed=42)"
   ]
  },
  {
   "cell_type": "code",
   "execution_count": 4,
   "id": "00251352-a0e2-4788-b783-fa9b21eb5408",
   "metadata": {},
   "outputs": [
    {
     "name": "stderr",
     "output_type": "stream",
     "text": [
      "Some weights of the model checkpoint at bert-base-cased were not used when initializing BertForSequenceClassification: ['cls.predictions.transform.LayerNorm.bias', 'cls.predictions.decoder.weight', 'cls.seq_relationship.weight', 'cls.predictions.transform.dense.weight', 'cls.predictions.bias', 'cls.predictions.transform.dense.bias', 'cls.seq_relationship.bias', 'cls.predictions.transform.LayerNorm.weight']\n",
      "- This IS expected if you are initializing BertForSequenceClassification from the checkpoint of a model trained on another task or with another architecture (e.g. initializing a BertForSequenceClassification model from a BertForPreTraining model).\n",
      "- This IS NOT expected if you are initializing BertForSequenceClassification from the checkpoint of a model that you expect to be exactly identical (initializing a BertForSequenceClassification model from a BertForSequenceClassification model).\n",
      "Some weights of BertForSequenceClassification were not initialized from the model checkpoint at bert-base-cased and are newly initialized: ['classifier.weight', 'classifier.bias']\n",
      "You should probably TRAIN this model on a down-stream task to be able to use it for predictions and inference.\n"
     ]
    }
   ],
   "source": [
    "# 加载模型\n",
    "from transformers import AutoModelForSequenceClassification\n",
    "\n",
    "model = AutoModelForSequenceClassification.from_pretrained(\"bert-base-cased\", num_labels=5)\n"
   ]
  },
  {
   "cell_type": "code",
   "execution_count": 5,
   "id": "aec7669e-c2f3-4b64-b037-a27ecf346b01",
   "metadata": {},
   "outputs": [
    {
     "name": "stderr",
     "output_type": "stream",
     "text": [
      "Using cuda_amp half precision backend\n"
     ]
    }
   ],
   "source": [
    "# 模型训练器\n",
    "import os\n",
    "from transformers import TrainingArguments, Trainer\n",
    "import numpy as np\n",
    "import evaluate\n",
    "import wandb\n",
    "os.environ[\"WANDB_PROJECT\"]=\"fine-tune-quickstart\"\n",
    "os.environ[\"WANDB_LOG_MODEL\"]=\"true\"\n",
    "os.environ[\"WANDB_WATCH\"]=\"false\"\n",
    "\n",
    "\n",
    "model_dir = \"models/bert-base-cased\"\n",
    "\n",
    "# logging_steps 默认值为500，根据我们的训练数据和步长，将其设置为100\n",
    "training_args = TrainingArguments(output_dir=f\"{model_dir}/test_trainer\",\n",
    "                                  evaluation_strategy=\"epoch\", \n",
    "                                  logging_dir=f\"{model_dir}/test_trainer/runs\",\n",
    "                                  per_device_train_batch_size=96,\n",
    "                                  per_device_eval_batch_size=96,\n",
    "                                  bf16=True,\n",
    "                                  save_total_limit=2,\n",
    "                                  hub_strategy=\"checkpoint\",\n",
    "                                  save_strategy=\"steps\",\n",
    "                                  save_steps=500,\n",
    "                                  ignore_data_skip=True,\n",
    "                                  report_to=\"wandb\",\n",
    "                                  logging_steps=5,\n",
    "                                 )\n",
    "\n",
    "# 定义模型评估函数\n",
    "metric = evaluate.load(\"accuracy\")\n",
    "def compute_metrics(eval_pred):\n",
    "    logits, labels = eval_pred\n",
    "    predictions = np.argmax(logits, axis=-1)\n",
    "    return metric.compute(predictions=predictions, references=labels)\n",
    "\n",
    "\n",
    "\n",
    "\n",
    "trainer = Trainer(\n",
    "    model=model,\n",
    "    \n",
    "     \n",
    "    args=training_args,\n",
    "    train_dataset=train_dataset,\n",
    "    eval_dataset=eval_dataset,\n",
    "    compute_metrics=compute_metrics,\n",
    ")"
   ]
  },
  {
   "cell_type": "code",
   "execution_count": 6,
   "id": "9d473944-1620-42e4-925c-2fd475f7a3d7",
   "metadata": {},
   "outputs": [
    {
     "name": "stderr",
     "output_type": "stream",
     "text": [
      "Loading model from models/bert-base-cased/test_trainer/checkpoint-5500.\n",
      "The following columns in the training set don't have a corresponding argument in `BertForSequenceClassification.forward` and have been ignored: text. If text are not expected by `BertForSequenceClassification.forward`,  you can safely ignore this message.\n",
      "/usr/local/lib/python3.9/dist-packages/transformers/optimization.py:306: FutureWarning: This implementation of AdamW is deprecated and will be removed in a future version. Use the PyTorch implementation torch.optim.AdamW instead, or set `no_deprecation_warning=True` to disable this warning\n",
      "  warnings.warn(\n",
      "***** Running training *****\n",
      "  Num examples = 650000\n",
      "  Num Epochs = 3\n",
      "  Instantaneous batch size per device = 96\n",
      "  Total train batch size (w. parallel, distributed & accumulation) = 96\n",
      "  Gradient Accumulation steps = 1\n",
      "  Total optimization steps = 20313\n",
      "  Continuing training from checkpoint, will skip to saved global_step\n",
      "  Continuing training from epoch 0\n",
      "  Continuing training from global step 5500\n",
      "Automatic Weights & Biases logging enabled, to disable set os.environ[\"WANDB_DISABLED\"] = \"true\"\n",
      "\u001b[34m\u001b[1mwandb\u001b[0m: Currently logged in as: \u001b[33mujj3001\u001b[0m. Use \u001b[1m`wandb login --relogin`\u001b[0m to force relogin\n"
     ]
    },
    {
     "data": {
      "text/html": [
       "wandb version 0.16.1 is available!  To upgrade, please run:\n",
       " $ pip install wandb --upgrade"
      ],
      "text/plain": [
       "<IPython.core.display.HTML object>"
      ]
     },
     "metadata": {},
     "output_type": "display_data"
    },
    {
     "data": {
      "text/html": [
       "Tracking run with wandb version 0.13.4"
      ],
      "text/plain": [
       "<IPython.core.display.HTML object>"
      ]
     },
     "metadata": {},
     "output_type": "display_data"
    },
    {
     "data": {
      "text/html": [
       "Run data is saved locally in <code>/notebooks/LLM-quickstart-homework/wandb/run-20231221_173933-1ro8jc0q</code>"
      ],
      "text/plain": [
       "<IPython.core.display.HTML object>"
      ]
     },
     "metadata": {},
     "output_type": "display_data"
    },
    {
     "data": {
      "text/html": [
       "Syncing run <strong><a href=\"https://wandb.ai/ujj3001/fine-tune-quickstart/runs/1ro8jc0q\" target=\"_blank\">models/bert-base-cased/test_trainer</a></strong> to <a href=\"https://wandb.ai/ujj3001/fine-tune-quickstart\" target=\"_blank\">Weights & Biases</a> (<a href=\"https://wandb.me/run\" target=\"_blank\">docs</a>)<br/>"
      ],
      "text/plain": [
       "<IPython.core.display.HTML object>"
      ]
     },
     "metadata": {},
     "output_type": "display_data"
    },
    {
     "data": {
      "text/html": [
       "\n",
       "    <div>\n",
       "      \n",
       "      <progress value='20313' max='20313' style='width:300px; height:20px; vertical-align: middle;'></progress>\n",
       "      [20313/20313 4:25:09, Epoch 2/3]\n",
       "    </div>\n",
       "    <table border=\"1\" class=\"dataframe\">\n",
       "  <thead>\n",
       " <tr style=\"text-align: left;\">\n",
       "      <th>Epoch</th>\n",
       "      <th>Training Loss</th>\n",
       "      <th>Validation Loss</th>\n",
       "      <th>Accuracy</th>\n",
       "    </tr>\n",
       "  </thead>\n",
       "  <tbody>\n",
       "    <tr>\n",
       "      <td>1</td>\n",
       "      <td>0.694300</td>\n",
       "      <td>0.693678</td>\n",
       "      <td>0.694380</td>\n",
       "    </tr>\n",
       "    <tr>\n",
       "      <td>2</td>\n",
       "      <td>0.615100</td>\n",
       "      <td>0.717382</td>\n",
       "      <td>0.696680</td>\n",
       "    </tr>\n",
       "    <tr>\n",
       "      <td>2</td>\n",
       "      <td>0.510600</td>\n",
       "      <td>0.753520</td>\n",
       "      <td>0.694020</td>\n",
       "    </tr>\n",
       "  </tbody>\n",
       "</table><p>"
      ],
      "text/plain": [
       "<IPython.core.display.HTML object>"
      ]
     },
     "metadata": {},
     "output_type": "display_data"
    },
    {
     "name": "stderr",
     "output_type": "stream",
     "text": [
      "Saving model checkpoint to models/bert-base-cased/test_trainer/checkpoint-6000\n",
      "Configuration saved in models/bert-base-cased/test_trainer/checkpoint-6000/config.json\n",
      "Model weights saved in models/bert-base-cased/test_trainer/checkpoint-6000/pytorch_model.bin\n",
      "Deleting older checkpoint [models/bert-base-cased/test_trainer/checkpoint-5400] due to args.save_total_limit\n",
      "Saving model checkpoint to models/bert-base-cased/test_trainer/checkpoint-6500\n",
      "Configuration saved in models/bert-base-cased/test_trainer/checkpoint-6500/config.json\n",
      "Model weights saved in models/bert-base-cased/test_trainer/checkpoint-6500/pytorch_model.bin\n",
      "Deleting older checkpoint [models/bert-base-cased/test_trainer/checkpoint-5500] due to args.save_total_limit\n",
      "Saving model checkpoint to models/bert-base-cased/test_trainer/checkpoint-7000\n",
      "Configuration saved in models/bert-base-cased/test_trainer/checkpoint-7000/config.json\n",
      "Model weights saved in models/bert-base-cased/test_trainer/checkpoint-7000/pytorch_model.bin\n",
      "Deleting older checkpoint [models/bert-base-cased/test_trainer/checkpoint-6000] due to args.save_total_limit\n",
      "Saving model checkpoint to models/bert-base-cased/test_trainer/checkpoint-7500\n",
      "Configuration saved in models/bert-base-cased/test_trainer/checkpoint-7500/config.json\n",
      "Model weights saved in models/bert-base-cased/test_trainer/checkpoint-7500/pytorch_model.bin\n",
      "Deleting older checkpoint [models/bert-base-cased/test_trainer/checkpoint-6500] due to args.save_total_limit\n",
      "Saving model checkpoint to models/bert-base-cased/test_trainer/checkpoint-8000\n",
      "Configuration saved in models/bert-base-cased/test_trainer/checkpoint-8000/config.json\n",
      "Model weights saved in models/bert-base-cased/test_trainer/checkpoint-8000/pytorch_model.bin\n",
      "Deleting older checkpoint [models/bert-base-cased/test_trainer/checkpoint-7000] due to args.save_total_limit\n",
      "Saving model checkpoint to models/bert-base-cased/test_trainer/checkpoint-8500\n",
      "Configuration saved in models/bert-base-cased/test_trainer/checkpoint-8500/config.json\n",
      "Model weights saved in models/bert-base-cased/test_trainer/checkpoint-8500/pytorch_model.bin\n",
      "Deleting older checkpoint [models/bert-base-cased/test_trainer/checkpoint-7500] due to args.save_total_limit\n",
      "Saving model checkpoint to models/bert-base-cased/test_trainer/checkpoint-9000\n",
      "Configuration saved in models/bert-base-cased/test_trainer/checkpoint-9000/config.json\n",
      "Model weights saved in models/bert-base-cased/test_trainer/checkpoint-9000/pytorch_model.bin\n",
      "Deleting older checkpoint [models/bert-base-cased/test_trainer/checkpoint-8000] due to args.save_total_limit\n",
      "Saving model checkpoint to models/bert-base-cased/test_trainer/checkpoint-9500\n",
      "Configuration saved in models/bert-base-cased/test_trainer/checkpoint-9500/config.json\n",
      "Model weights saved in models/bert-base-cased/test_trainer/checkpoint-9500/pytorch_model.bin\n",
      "Deleting older checkpoint [models/bert-base-cased/test_trainer/checkpoint-8500] due to args.save_total_limit\n",
      "Saving model checkpoint to models/bert-base-cased/test_trainer/checkpoint-10000\n",
      "Configuration saved in models/bert-base-cased/test_trainer/checkpoint-10000/config.json\n",
      "Model weights saved in models/bert-base-cased/test_trainer/checkpoint-10000/pytorch_model.bin\n",
      "Deleting older checkpoint [models/bert-base-cased/test_trainer/checkpoint-9000] due to args.save_total_limit\n",
      "Saving model checkpoint to models/bert-base-cased/test_trainer/checkpoint-10500\n",
      "Configuration saved in models/bert-base-cased/test_trainer/checkpoint-10500/config.json\n",
      "Model weights saved in models/bert-base-cased/test_trainer/checkpoint-10500/pytorch_model.bin\n",
      "Deleting older checkpoint [models/bert-base-cased/test_trainer/checkpoint-9500] due to args.save_total_limit\n",
      "Saving model checkpoint to models/bert-base-cased/test_trainer/checkpoint-11000\n",
      "Configuration saved in models/bert-base-cased/test_trainer/checkpoint-11000/config.json\n",
      "Model weights saved in models/bert-base-cased/test_trainer/checkpoint-11000/pytorch_model.bin\n",
      "Deleting older checkpoint [models/bert-base-cased/test_trainer/checkpoint-10000] due to args.save_total_limit\n",
      "Saving model checkpoint to models/bert-base-cased/test_trainer/checkpoint-11500\n",
      "Configuration saved in models/bert-base-cased/test_trainer/checkpoint-11500/config.json\n",
      "Model weights saved in models/bert-base-cased/test_trainer/checkpoint-11500/pytorch_model.bin\n",
      "Deleting older checkpoint [models/bert-base-cased/test_trainer/checkpoint-10500] due to args.save_total_limit\n",
      "Saving model checkpoint to models/bert-base-cased/test_trainer/checkpoint-12000\n",
      "Configuration saved in models/bert-base-cased/test_trainer/checkpoint-12000/config.json\n",
      "Model weights saved in models/bert-base-cased/test_trainer/checkpoint-12000/pytorch_model.bin\n",
      "Deleting older checkpoint [models/bert-base-cased/test_trainer/checkpoint-11000] due to args.save_total_limit\n",
      "The following columns in the evaluation set don't have a corresponding argument in `BertForSequenceClassification.forward` and have been ignored: text. If text are not expected by `BertForSequenceClassification.forward`,  you can safely ignore this message.\n",
      "***** Running Evaluation *****\n",
      "  Num examples = 50000\n",
      "  Batch size = 96\n",
      "Saving model checkpoint to models/bert-base-cased/test_trainer/checkpoint-12500\n",
      "Configuration saved in models/bert-base-cased/test_trainer/checkpoint-12500/config.json\n",
      "Model weights saved in models/bert-base-cased/test_trainer/checkpoint-12500/pytorch_model.bin\n",
      "Deleting older checkpoint [models/bert-base-cased/test_trainer/checkpoint-11500] due to args.save_total_limit\n",
      "Saving model checkpoint to models/bert-base-cased/test_trainer/checkpoint-13000\n",
      "Configuration saved in models/bert-base-cased/test_trainer/checkpoint-13000/config.json\n",
      "Model weights saved in models/bert-base-cased/test_trainer/checkpoint-13000/pytorch_model.bin\n",
      "Deleting older checkpoint [models/bert-base-cased/test_trainer/checkpoint-12000] due to args.save_total_limit\n",
      "Saving model checkpoint to models/bert-base-cased/test_trainer/checkpoint-13500\n",
      "Configuration saved in models/bert-base-cased/test_trainer/checkpoint-13500/config.json\n",
      "Model weights saved in models/bert-base-cased/test_trainer/checkpoint-13500/pytorch_model.bin\n",
      "Deleting older checkpoint [models/bert-base-cased/test_trainer/checkpoint-12500] due to args.save_total_limit\n",
      "Saving model checkpoint to models/bert-base-cased/test_trainer/checkpoint-14000\n",
      "Configuration saved in models/bert-base-cased/test_trainer/checkpoint-14000/config.json\n",
      "Model weights saved in models/bert-base-cased/test_trainer/checkpoint-14000/pytorch_model.bin\n",
      "Deleting older checkpoint [models/bert-base-cased/test_trainer/checkpoint-13000] due to args.save_total_limit\n",
      "Saving model checkpoint to models/bert-base-cased/test_trainer/checkpoint-14500\n",
      "Configuration saved in models/bert-base-cased/test_trainer/checkpoint-14500/config.json\n",
      "Model weights saved in models/bert-base-cased/test_trainer/checkpoint-14500/pytorch_model.bin\n",
      "Deleting older checkpoint [models/bert-base-cased/test_trainer/checkpoint-13500] due to args.save_total_limit\n",
      "Saving model checkpoint to models/bert-base-cased/test_trainer/checkpoint-15000\n",
      "Configuration saved in models/bert-base-cased/test_trainer/checkpoint-15000/config.json\n",
      "Model weights saved in models/bert-base-cased/test_trainer/checkpoint-15000/pytorch_model.bin\n",
      "Deleting older checkpoint [models/bert-base-cased/test_trainer/checkpoint-14000] due to args.save_total_limit\n",
      "Saving model checkpoint to models/bert-base-cased/test_trainer/checkpoint-15500\n",
      "Configuration saved in models/bert-base-cased/test_trainer/checkpoint-15500/config.json\n",
      "Model weights saved in models/bert-base-cased/test_trainer/checkpoint-15500/pytorch_model.bin\n",
      "Deleting older checkpoint [models/bert-base-cased/test_trainer/checkpoint-14500] due to args.save_total_limit\n",
      "Saving model checkpoint to models/bert-base-cased/test_trainer/checkpoint-16000\n",
      "Configuration saved in models/bert-base-cased/test_trainer/checkpoint-16000/config.json\n",
      "Model weights saved in models/bert-base-cased/test_trainer/checkpoint-16000/pytorch_model.bin\n",
      "Deleting older checkpoint [models/bert-base-cased/test_trainer/checkpoint-15000] due to args.save_total_limit\n",
      "Saving model checkpoint to models/bert-base-cased/test_trainer/checkpoint-16500\n",
      "Configuration saved in models/bert-base-cased/test_trainer/checkpoint-16500/config.json\n",
      "Model weights saved in models/bert-base-cased/test_trainer/checkpoint-16500/pytorch_model.bin\n",
      "Deleting older checkpoint [models/bert-base-cased/test_trainer/checkpoint-15500] due to args.save_total_limit\n",
      "Saving model checkpoint to models/bert-base-cased/test_trainer/checkpoint-17000\n",
      "Configuration saved in models/bert-base-cased/test_trainer/checkpoint-17000/config.json\n",
      "Model weights saved in models/bert-base-cased/test_trainer/checkpoint-17000/pytorch_model.bin\n",
      "Deleting older checkpoint [models/bert-base-cased/test_trainer/checkpoint-16000] due to args.save_total_limit\n",
      "Saving model checkpoint to models/bert-base-cased/test_trainer/checkpoint-17500\n",
      "Configuration saved in models/bert-base-cased/test_trainer/checkpoint-17500/config.json\n",
      "Model weights saved in models/bert-base-cased/test_trainer/checkpoint-17500/pytorch_model.bin\n",
      "Deleting older checkpoint [models/bert-base-cased/test_trainer/checkpoint-16500] due to args.save_total_limit\n",
      "Saving model checkpoint to models/bert-base-cased/test_trainer/checkpoint-18000\n",
      "Configuration saved in models/bert-base-cased/test_trainer/checkpoint-18000/config.json\n",
      "Model weights saved in models/bert-base-cased/test_trainer/checkpoint-18000/pytorch_model.bin\n",
      "Deleting older checkpoint [models/bert-base-cased/test_trainer/checkpoint-17000] due to args.save_total_limit\n",
      "Saving model checkpoint to models/bert-base-cased/test_trainer/checkpoint-18500\n",
      "Configuration saved in models/bert-base-cased/test_trainer/checkpoint-18500/config.json\n",
      "Model weights saved in models/bert-base-cased/test_trainer/checkpoint-18500/pytorch_model.bin\n",
      "Deleting older checkpoint [models/bert-base-cased/test_trainer/checkpoint-17500] due to args.save_total_limit\n",
      "Saving model checkpoint to models/bert-base-cased/test_trainer/checkpoint-19000\n",
      "Configuration saved in models/bert-base-cased/test_trainer/checkpoint-19000/config.json\n",
      "Model weights saved in models/bert-base-cased/test_trainer/checkpoint-19000/pytorch_model.bin\n",
      "Deleting older checkpoint [models/bert-base-cased/test_trainer/checkpoint-18000] due to args.save_total_limit\n",
      "The following columns in the evaluation set don't have a corresponding argument in `BertForSequenceClassification.forward` and have been ignored: text. If text are not expected by `BertForSequenceClassification.forward`,  you can safely ignore this message.\n",
      "***** Running Evaluation *****\n",
      "  Num examples = 50000\n",
      "  Batch size = 96\n",
      "Saving model checkpoint to models/bert-base-cased/test_trainer/checkpoint-19500\n",
      "Configuration saved in models/bert-base-cased/test_trainer/checkpoint-19500/config.json\n",
      "Model weights saved in models/bert-base-cased/test_trainer/checkpoint-19500/pytorch_model.bin\n",
      "Deleting older checkpoint [models/bert-base-cased/test_trainer/checkpoint-18500] due to args.save_total_limit\n",
      "Saving model checkpoint to models/bert-base-cased/test_trainer/checkpoint-20000\n",
      "Configuration saved in models/bert-base-cased/test_trainer/checkpoint-20000/config.json\n",
      "Model weights saved in models/bert-base-cased/test_trainer/checkpoint-20000/pytorch_model.bin\n",
      "Deleting older checkpoint [models/bert-base-cased/test_trainer/checkpoint-19000] due to args.save_total_limit\n",
      "The following columns in the evaluation set don't have a corresponding argument in `BertForSequenceClassification.forward` and have been ignored: text. If text are not expected by `BertForSequenceClassification.forward`,  you can safely ignore this message.\n",
      "***** Running Evaluation *****\n",
      "  Num examples = 50000\n",
      "  Batch size = 96\n",
      "\n",
      "\n",
      "Training completed. Do not forget to share your model on huggingface.co/models =)\n",
      "\n",
      "\n",
      "Using cuda_amp half precision backend\n",
      "Saving model checkpoint to /tmp/tmpn77ntjgv\n",
      "Configuration saved in /tmp/tmpn77ntjgv/config.json\n",
      "Model weights saved in /tmp/tmpn77ntjgv/pytorch_model.bin\n"
     ]
    },
    {
     "data": {
      "text/html": [
       "Waiting for W&B process to finish... <strong style=\"color:green\">(success).</strong>"
      ],
      "text/plain": [
       "<IPython.core.display.HTML object>"
      ]
     },
     "metadata": {},
     "output_type": "display_data"
    },
    {
     "data": {
      "text/html": [
       "<style>\n",
       "    table.wandb td:nth-child(1) { padding: 0 10px; text-align: left ; width: auto;} td:nth-child(2) {text-align: left ; width: 100%}\n",
       "    .wandb-row { display: flex; flex-direction: row; flex-wrap: wrap; justify-content: flex-start; width: 100% }\n",
       "    .wandb-col { display: flex; flex-direction: column; flex-basis: 100%; flex: 1; padding: 10px; }\n",
       "    </style>\n",
       "<div class=\"wandb-row\"><div class=\"wandb-col\"><h3>Run history:</h3><br/><table class=\"wandb\"><tr><td>eval/accuracy</td><td>▂█▁</td></tr><tr><td>eval/loss</td><td>▁▄█</td></tr><tr><td>eval/runtime</td><td>▁██</td></tr><tr><td>eval/samples_per_second</td><td>█▁▁</td></tr><tr><td>eval/steps_per_second</td><td>█▁▁</td></tr><tr><td>train/epoch</td><td>▁▁▁▂▂▂▂▂▂▃▃▃▃▃▃▄▄▄▄▄▅▅▅▅▅▅▆▆▆▆▆▇▇▇▇▇▇███</td></tr><tr><td>train/global_step</td><td>▁▁▁▂▂▂▂▂▂▃▃▃▃▃▃▄▄▄▄▄▅▅▅▅▅▅▆▆▆▆▆▇▇▇▇▇▇███</td></tr><tr><td>train/learning_rate</td><td>███▇▇▇▇▇▇▆▆▆▆▆▆▅▅▅▅▅▄▄▄▄▄▄▃▃▃▃▃▂▂▂▂▂▂▁▁▁</td></tr><tr><td>train/loss</td><td>▄▅▆▅▅▅▄▅▅▄▇▅▆▄▆▇▇█▄▅▅▄▄▂▄▃▄▄▃▅▄▂▃▃▃▃▃▁▂▃</td></tr><tr><td>train/total_flos</td><td>▁</td></tr><tr><td>train/train_loss</td><td>▁</td></tr><tr><td>train/train_runtime</td><td>▁</td></tr><tr><td>train/train_samples_per_second</td><td>▁</td></tr><tr><td>train/train_steps_per_second</td><td>▁</td></tr></table><br/></div><div class=\"wandb-col\"><h3>Run summary:</h3><br/><table class=\"wandb\"><tr><td>eval/accuracy</td><td>0.69402</td></tr><tr><td>eval/loss</td><td>0.75352</td></tr><tr><td>eval/runtime</td><td>190.5324</td></tr><tr><td>eval/samples_per_second</td><td>262.423</td></tr><tr><td>eval/steps_per_second</td><td>2.734</td></tr><tr><td>train/epoch</td><td>2.19</td></tr><tr><td>train/global_step</td><td>20313</td></tr><tr><td>train/learning_rate</td><td>0.0</td></tr><tr><td>train/loss</td><td>0.5106</td></tr><tr><td>train/total_flos</td><td>5.10558653527425e+17</td></tr><tr><td>train/train_loss</td><td>0.44036</td></tr><tr><td>train/train_runtime</td><td>15909.8432</td></tr><tr><td>train/train_samples_per_second</td><td>122.566</td></tr><tr><td>train/train_steps_per_second</td><td>1.277</td></tr></table><br/></div></div>"
      ],
      "text/plain": [
       "<IPython.core.display.HTML object>"
      ]
     },
     "metadata": {},
     "output_type": "display_data"
    },
    {
     "data": {
      "text/html": [
       "Synced <strong style=\"color:#cdcd00\">models/bert-base-cased/test_trainer</strong>: <a href=\"https://wandb.ai/ujj3001/fine-tune-quickstart/runs/1ro8jc0q\" target=\"_blank\">https://wandb.ai/ujj3001/fine-tune-quickstart/runs/1ro8jc0q</a><br/>Synced 5 W&B file(s), 0 media file(s), 3 artifact file(s) and 0 other file(s)"
      ],
      "text/plain": [
       "<IPython.core.display.HTML object>"
      ]
     },
     "metadata": {},
     "output_type": "display_data"
    },
    {
     "data": {
      "text/html": [
       "Find logs at: <code>./wandb/run-20231221_173933-1ro8jc0q/logs</code>"
      ],
      "text/plain": [
       "<IPython.core.display.HTML object>"
      ]
     },
     "metadata": {},
     "output_type": "display_data"
    }
   ],
   "source": [
    "trainer.train(resume_from_checkpoint=True)\n",
    "wandb.finish()"
   ]
  },
  {
   "cell_type": "code",
   "execution_count": 7,
   "id": "01222750-bbbe-41af-a62f-4911b24c8678",
   "metadata": {},
   "outputs": [
    {
     "name": "stderr",
     "output_type": "stream",
     "text": [
      "The following columns in the evaluation set don't have a corresponding argument in `BertForSequenceClassification.forward` and have been ignored: text. If text are not expected by `BertForSequenceClassification.forward`,  you can safely ignore this message.\n",
      "***** Running Evaluation *****\n",
      "  Num examples = 500\n",
      "  Batch size = 96\n"
     ]
    },
    {
     "data": {
      "text/html": [
       "\n",
       "    <div>\n",
       "      \n",
       "      <progress value='6' max='6' style='width:300px; height:20px; vertical-align: middle;'></progress>\n",
       "      [6/6 00:01]\n",
       "    </div>\n",
       "    "
      ],
      "text/plain": [
       "<IPython.core.display.HTML object>"
      ]
     },
     "metadata": {},
     "output_type": "display_data"
    },
    {
     "ename": "Error",
     "evalue": "You must call wandb.init() before wandb.log()",
     "output_type": "error",
     "traceback": [
      "\u001b[0;31m---------------------------------------------------------------------------\u001b[0m",
      "\u001b[0;31mError\u001b[0m                                     Traceback (most recent call last)",
      "Cell \u001b[0;32mIn [7], line 3\u001b[0m\n\u001b[1;32m      1\u001b[0m \u001b[38;5;66;03m# 验证\u001b[39;00m\n\u001b[1;32m      2\u001b[0m small_test_dataset \u001b[38;5;241m=\u001b[39m tokenized_datasets[\u001b[38;5;124m\"\u001b[39m\u001b[38;5;124mtest\u001b[39m\u001b[38;5;124m\"\u001b[39m]\u001b[38;5;241m.\u001b[39mshuffle(seed\u001b[38;5;241m=\u001b[39m\u001b[38;5;241m64\u001b[39m)\u001b[38;5;241m.\u001b[39mselect(\u001b[38;5;28mrange\u001b[39m(\u001b[38;5;241m500\u001b[39m))\n\u001b[0;32m----> 3\u001b[0m \u001b[43mtrainer\u001b[49m\u001b[38;5;241;43m.\u001b[39;49m\u001b[43mevaluate\u001b[49m\u001b[43m(\u001b[49m\u001b[43msmall_test_dataset\u001b[49m\u001b[43m)\u001b[49m\n",
      "File \u001b[0;32m/usr/local/lib/python3.9/dist-packages/transformers/trainer.py:2778\u001b[0m, in \u001b[0;36mTrainer.evaluate\u001b[0;34m(self, eval_dataset, ignore_keys, metric_key_prefix)\u001b[0m\n\u001b[1;32m   2768\u001b[0m total_batch_size \u001b[38;5;241m=\u001b[39m \u001b[38;5;28mself\u001b[39m\u001b[38;5;241m.\u001b[39margs\u001b[38;5;241m.\u001b[39meval_batch_size \u001b[38;5;241m*\u001b[39m \u001b[38;5;28mself\u001b[39m\u001b[38;5;241m.\u001b[39margs\u001b[38;5;241m.\u001b[39mworld_size\n\u001b[1;32m   2769\u001b[0m output\u001b[38;5;241m.\u001b[39mmetrics\u001b[38;5;241m.\u001b[39mupdate(\n\u001b[1;32m   2770\u001b[0m     speed_metrics(\n\u001b[1;32m   2771\u001b[0m         metric_key_prefix,\n\u001b[0;32m   (...)\u001b[0m\n\u001b[1;32m   2775\u001b[0m     )\n\u001b[1;32m   2776\u001b[0m )\n\u001b[0;32m-> 2778\u001b[0m \u001b[38;5;28;43mself\u001b[39;49m\u001b[38;5;241;43m.\u001b[39;49m\u001b[43mlog\u001b[49m\u001b[43m(\u001b[49m\u001b[43moutput\u001b[49m\u001b[38;5;241;43m.\u001b[39;49m\u001b[43mmetrics\u001b[49m\u001b[43m)\u001b[49m\n\u001b[1;32m   2780\u001b[0m \u001b[38;5;28;01mif\u001b[39;00m DebugOption\u001b[38;5;241m.\u001b[39mTPU_METRICS_DEBUG \u001b[38;5;129;01min\u001b[39;00m \u001b[38;5;28mself\u001b[39m\u001b[38;5;241m.\u001b[39margs\u001b[38;5;241m.\u001b[39mdebug:\n\u001b[1;32m   2781\u001b[0m     \u001b[38;5;66;03m# tpu-comment: Logging debug metrics for PyTorch/XLA (compile, execute times, ops, etc.)\u001b[39;00m\n\u001b[1;32m   2782\u001b[0m     xm\u001b[38;5;241m.\u001b[39mmaster_print(met\u001b[38;5;241m.\u001b[39mmetrics_report())\n",
      "File \u001b[0;32m/usr/local/lib/python3.9/dist-packages/transformers/trainer.py:2372\u001b[0m, in \u001b[0;36mTrainer.log\u001b[0;34m(self, logs)\u001b[0m\n\u001b[1;32m   2370\u001b[0m output \u001b[38;5;241m=\u001b[39m {\u001b[38;5;241m*\u001b[39m\u001b[38;5;241m*\u001b[39mlogs, \u001b[38;5;241m*\u001b[39m\u001b[38;5;241m*\u001b[39m{\u001b[38;5;124m\"\u001b[39m\u001b[38;5;124mstep\u001b[39m\u001b[38;5;124m\"\u001b[39m: \u001b[38;5;28mself\u001b[39m\u001b[38;5;241m.\u001b[39mstate\u001b[38;5;241m.\u001b[39mglobal_step}}\n\u001b[1;32m   2371\u001b[0m \u001b[38;5;28mself\u001b[39m\u001b[38;5;241m.\u001b[39mstate\u001b[38;5;241m.\u001b[39mlog_history\u001b[38;5;241m.\u001b[39mappend(output)\n\u001b[0;32m-> 2372\u001b[0m \u001b[38;5;28mself\u001b[39m\u001b[38;5;241m.\u001b[39mcontrol \u001b[38;5;241m=\u001b[39m \u001b[38;5;28;43mself\u001b[39;49m\u001b[38;5;241;43m.\u001b[39;49m\u001b[43mcallback_handler\u001b[49m\u001b[38;5;241;43m.\u001b[39;49m\u001b[43mon_log\u001b[49m\u001b[43m(\u001b[49m\u001b[38;5;28;43mself\u001b[39;49m\u001b[38;5;241;43m.\u001b[39;49m\u001b[43margs\u001b[49m\u001b[43m,\u001b[49m\u001b[43m \u001b[49m\u001b[38;5;28;43mself\u001b[39;49m\u001b[38;5;241;43m.\u001b[39;49m\u001b[43mstate\u001b[49m\u001b[43m,\u001b[49m\u001b[43m \u001b[49m\u001b[38;5;28;43mself\u001b[39;49m\u001b[38;5;241;43m.\u001b[39;49m\u001b[43mcontrol\u001b[49m\u001b[43m,\u001b[49m\u001b[43m \u001b[49m\u001b[43mlogs\u001b[49m\u001b[43m)\u001b[49m\n",
      "File \u001b[0;32m/usr/local/lib/python3.9/dist-packages/transformers/trainer_callback.py:390\u001b[0m, in \u001b[0;36mCallbackHandler.on_log\u001b[0;34m(self, args, state, control, logs)\u001b[0m\n\u001b[1;32m    388\u001b[0m \u001b[38;5;28;01mdef\u001b[39;00m \u001b[38;5;21mon_log\u001b[39m(\u001b[38;5;28mself\u001b[39m, args: TrainingArguments, state: TrainerState, control: TrainerControl, logs):\n\u001b[1;32m    389\u001b[0m     control\u001b[38;5;241m.\u001b[39mshould_log \u001b[38;5;241m=\u001b[39m \u001b[38;5;28;01mFalse\u001b[39;00m\n\u001b[0;32m--> 390\u001b[0m     \u001b[38;5;28;01mreturn\u001b[39;00m \u001b[38;5;28;43mself\u001b[39;49m\u001b[38;5;241;43m.\u001b[39;49m\u001b[43mcall_event\u001b[49m\u001b[43m(\u001b[49m\u001b[38;5;124;43m\"\u001b[39;49m\u001b[38;5;124;43mon_log\u001b[39;49m\u001b[38;5;124;43m\"\u001b[39;49m\u001b[43m,\u001b[49m\u001b[43m \u001b[49m\u001b[43margs\u001b[49m\u001b[43m,\u001b[49m\u001b[43m \u001b[49m\u001b[43mstate\u001b[49m\u001b[43m,\u001b[49m\u001b[43m \u001b[49m\u001b[43mcontrol\u001b[49m\u001b[43m,\u001b[49m\u001b[43m \u001b[49m\u001b[43mlogs\u001b[49m\u001b[38;5;241;43m=\u001b[39;49m\u001b[43mlogs\u001b[49m\u001b[43m)\u001b[49m\n",
      "File \u001b[0;32m/usr/local/lib/python3.9/dist-packages/transformers/trainer_callback.py:397\u001b[0m, in \u001b[0;36mCallbackHandler.call_event\u001b[0;34m(self, event, args, state, control, **kwargs)\u001b[0m\n\u001b[1;32m    395\u001b[0m \u001b[38;5;28;01mdef\u001b[39;00m \u001b[38;5;21mcall_event\u001b[39m(\u001b[38;5;28mself\u001b[39m, event, args, state, control, \u001b[38;5;241m*\u001b[39m\u001b[38;5;241m*\u001b[39mkwargs):\n\u001b[1;32m    396\u001b[0m     \u001b[38;5;28;01mfor\u001b[39;00m callback \u001b[38;5;129;01min\u001b[39;00m \u001b[38;5;28mself\u001b[39m\u001b[38;5;241m.\u001b[39mcallbacks:\n\u001b[0;32m--> 397\u001b[0m         result \u001b[38;5;241m=\u001b[39m \u001b[38;5;28;43mgetattr\u001b[39;49m\u001b[43m(\u001b[49m\u001b[43mcallback\u001b[49m\u001b[43m,\u001b[49m\u001b[43m \u001b[49m\u001b[43mevent\u001b[49m\u001b[43m)\u001b[49m\u001b[43m(\u001b[49m\n\u001b[1;32m    398\u001b[0m \u001b[43m            \u001b[49m\u001b[43margs\u001b[49m\u001b[43m,\u001b[49m\n\u001b[1;32m    399\u001b[0m \u001b[43m            \u001b[49m\u001b[43mstate\u001b[49m\u001b[43m,\u001b[49m\n\u001b[1;32m    400\u001b[0m \u001b[43m            \u001b[49m\u001b[43mcontrol\u001b[49m\u001b[43m,\u001b[49m\n\u001b[1;32m    401\u001b[0m \u001b[43m            \u001b[49m\u001b[43mmodel\u001b[49m\u001b[38;5;241;43m=\u001b[39;49m\u001b[38;5;28;43mself\u001b[39;49m\u001b[38;5;241;43m.\u001b[39;49m\u001b[43mmodel\u001b[49m\u001b[43m,\u001b[49m\n\u001b[1;32m    402\u001b[0m \u001b[43m            \u001b[49m\u001b[43mtokenizer\u001b[49m\u001b[38;5;241;43m=\u001b[39;49m\u001b[38;5;28;43mself\u001b[39;49m\u001b[38;5;241;43m.\u001b[39;49m\u001b[43mtokenizer\u001b[49m\u001b[43m,\u001b[49m\n\u001b[1;32m    403\u001b[0m \u001b[43m            \u001b[49m\u001b[43moptimizer\u001b[49m\u001b[38;5;241;43m=\u001b[39;49m\u001b[38;5;28;43mself\u001b[39;49m\u001b[38;5;241;43m.\u001b[39;49m\u001b[43moptimizer\u001b[49m\u001b[43m,\u001b[49m\n\u001b[1;32m    404\u001b[0m \u001b[43m            \u001b[49m\u001b[43mlr_scheduler\u001b[49m\u001b[38;5;241;43m=\u001b[39;49m\u001b[38;5;28;43mself\u001b[39;49m\u001b[38;5;241;43m.\u001b[39;49m\u001b[43mlr_scheduler\u001b[49m\u001b[43m,\u001b[49m\n\u001b[1;32m    405\u001b[0m \u001b[43m            \u001b[49m\u001b[43mtrain_dataloader\u001b[49m\u001b[38;5;241;43m=\u001b[39;49m\u001b[38;5;28;43mself\u001b[39;49m\u001b[38;5;241;43m.\u001b[39;49m\u001b[43mtrain_dataloader\u001b[49m\u001b[43m,\u001b[49m\n\u001b[1;32m    406\u001b[0m \u001b[43m            \u001b[49m\u001b[43meval_dataloader\u001b[49m\u001b[38;5;241;43m=\u001b[39;49m\u001b[38;5;28;43mself\u001b[39;49m\u001b[38;5;241;43m.\u001b[39;49m\u001b[43meval_dataloader\u001b[49m\u001b[43m,\u001b[49m\n\u001b[1;32m    407\u001b[0m \u001b[43m            \u001b[49m\u001b[38;5;241;43m*\u001b[39;49m\u001b[38;5;241;43m*\u001b[39;49m\u001b[43mkwargs\u001b[49m\u001b[43m,\u001b[49m\n\u001b[1;32m    408\u001b[0m \u001b[43m        \u001b[49m\u001b[43m)\u001b[49m\n\u001b[1;32m    409\u001b[0m         \u001b[38;5;66;03m# A Callback can skip the return of `control` if it doesn't change it.\u001b[39;00m\n\u001b[1;32m    410\u001b[0m         \u001b[38;5;28;01mif\u001b[39;00m result \u001b[38;5;129;01mis\u001b[39;00m \u001b[38;5;129;01mnot\u001b[39;00m \u001b[38;5;28;01mNone\u001b[39;00m:\n",
      "File \u001b[0;32m/usr/local/lib/python3.9/dist-packages/transformers/integrations.py:689\u001b[0m, in \u001b[0;36mWandbCallback.on_log\u001b[0;34m(self, args, state, control, model, logs, **kwargs)\u001b[0m\n\u001b[1;32m    687\u001b[0m \u001b[38;5;28;01mif\u001b[39;00m state\u001b[38;5;241m.\u001b[39mis_world_process_zero:\n\u001b[1;32m    688\u001b[0m     logs \u001b[38;5;241m=\u001b[39m rewrite_logs(logs)\n\u001b[0;32m--> 689\u001b[0m     \u001b[38;5;28;43mself\u001b[39;49m\u001b[38;5;241;43m.\u001b[39;49m\u001b[43m_wandb\u001b[49m\u001b[38;5;241;43m.\u001b[39;49m\u001b[43mlog\u001b[49m\u001b[43m(\u001b[49m\u001b[43m{\u001b[49m\u001b[38;5;241;43m*\u001b[39;49m\u001b[38;5;241;43m*\u001b[39;49m\u001b[43mlogs\u001b[49m\u001b[43m,\u001b[49m\u001b[43m \u001b[49m\u001b[38;5;124;43m\"\u001b[39;49m\u001b[38;5;124;43mtrain/global_step\u001b[39;49m\u001b[38;5;124;43m\"\u001b[39;49m\u001b[43m:\u001b[49m\u001b[43m \u001b[49m\u001b[43mstate\u001b[49m\u001b[38;5;241;43m.\u001b[39;49m\u001b[43mglobal_step\u001b[49m\u001b[43m}\u001b[49m\u001b[43m)\u001b[49m\n",
      "File \u001b[0;32m/usr/local/lib/python3.9/dist-packages/wandb/sdk/lib/preinit.py:36\u001b[0m, in \u001b[0;36mPreInitCallable.<locals>.preinit_wrapper\u001b[0;34m(*args, **kwargs)\u001b[0m\n\u001b[1;32m     35\u001b[0m \u001b[38;5;28;01mdef\u001b[39;00m \u001b[38;5;21mpreinit_wrapper\u001b[39m(\u001b[38;5;241m*\u001b[39margs: Any, \u001b[38;5;241m*\u001b[39m\u001b[38;5;241m*\u001b[39mkwargs: Any) \u001b[38;5;241m-\u001b[39m\u001b[38;5;241m>\u001b[39m Any:\n\u001b[0;32m---> 36\u001b[0m     \u001b[38;5;28;01mraise\u001b[39;00m wandb\u001b[38;5;241m.\u001b[39mError(\u001b[38;5;124mf\u001b[39m\u001b[38;5;124m\"\u001b[39m\u001b[38;5;124mYou must call wandb.init() before \u001b[39m\u001b[38;5;132;01m{\u001b[39;00mname\u001b[38;5;132;01m}\u001b[39;00m\u001b[38;5;124m()\u001b[39m\u001b[38;5;124m\"\u001b[39m)\n",
      "\u001b[0;31mError\u001b[0m: You must call wandb.init() before wandb.log()"
     ]
    }
   ],
   "source": [
    "# 验证\n",
    "\n",
    "\n",
    "small_test_dataset = tokenized_datasets[\"test\"].shuffle(seed=64).select(range(500))\n",
    "trainer.evaluate(small_test_dataset)\n"
   ]
  },
  {
   "cell_type": "code",
   "execution_count": 8,
   "id": "6d19cd67-5708-48ca-85cf-af3cc6871664",
   "metadata": {},
   "outputs": [
    {
     "name": "stderr",
     "output_type": "stream",
     "text": [
      "Saving model checkpoint to models/bert-base-cased/finetuned-trainer\n",
      "Configuration saved in models/bert-base-cased/finetuned-trainer/config.json\n",
      "Model weights saved in models/bert-base-cased/finetuned-trainer/pytorch_model.bin\n"
     ]
    }
   ],
   "source": [
    "trainer.save_model(f\"{model_dir}/finetuned-trainer\")\n",
    "trainer.save_state()"
   ]
  },
  {
   "cell_type": "code",
   "execution_count": null,
   "id": "c49763d4-6f55-461a-8fca-bd54e91a0484",
   "metadata": {},
   "outputs": [],
   "source": [
    "print(len(tokenized_datasets[\"test\"]))"
   ]
  },
  {
   "cell_type": "code",
   "execution_count": null,
   "id": "da7e122d-667f-4f69-9637-1637f4ed7ea8",
   "metadata": {},
   "outputs": [],
   "source": []
  }
 ],
 "metadata": {
  "kernelspec": {
   "display_name": "Python 3 (ipykernel)",
   "language": "python",
   "name": "python3"
  },
  "language_info": {
   "codemirror_mode": {
    "name": "ipython",
    "version": 3
   },
   "file_extension": ".py",
   "mimetype": "text/x-python",
   "name": "python",
   "nbconvert_exporter": "python",
   "pygments_lexer": "ipython3",
   "version": "3.9.16"
  }
 },
 "nbformat": 4,
 "nbformat_minor": 5
}
